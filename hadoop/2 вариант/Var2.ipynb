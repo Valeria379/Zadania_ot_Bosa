{
 "cells": [
  {
   "cell_type": "code",
   "execution_count": 22,
   "id": "6287bab4-c83c-4708-a067-2d3e3c9a04e8",
   "metadata": {},
   "outputs": [
    {
     "name": "stdout",
     "output_type": "stream",
     "text": [
      "Requirement already satisfied: pyspark in ./.config/jupyterlab-desktop/jlab_server/lib/python3.12/site-packages (3.5.3)\n",
      "Requirement already satisfied: pandas in ./.config/jupyterlab-desktop/jlab_server/lib/python3.12/site-packages (2.2.2)\n",
      "Requirement already satisfied: matplotlib in ./.config/jupyterlab-desktop/jlab_server/lib/python3.12/site-packages (3.8.4)\n",
      "Requirement already satisfied: seaborn in ./.config/jupyterlab-desktop/jlab_server/lib/python3.12/site-packages (0.13.2)\n",
      "Requirement already satisfied: scikit-learn in ./.config/jupyterlab-desktop/jlab_server/lib/python3.12/site-packages (1.6.1)\n",
      "Requirement already satisfied: py4j==0.10.9.7 in ./.config/jupyterlab-desktop/jlab_server/lib/python3.12/site-packages (from pyspark) (0.10.9.7)\n",
      "Requirement already satisfied: numpy>=1.26.0 in ./.config/jupyterlab-desktop/jlab_server/lib/python3.12/site-packages (from pandas) (1.26.4)\n",
      "Requirement already satisfied: python-dateutil>=2.8.2 in ./.config/jupyterlab-desktop/jlab_server/lib/python3.12/site-packages (from pandas) (2.9.0)\n",
      "Requirement already satisfied: pytz>=2020.1 in ./.config/jupyterlab-desktop/jlab_server/lib/python3.12/site-packages (from pandas) (2024.1)\n",
      "Requirement already satisfied: tzdata>=2022.7 in ./.config/jupyterlab-desktop/jlab_server/lib/python3.12/site-packages (from pandas) (2024.1)\n",
      "Requirement already satisfied: contourpy>=1.0.1 in ./.config/jupyterlab-desktop/jlab_server/lib/python3.12/site-packages (from matplotlib) (1.2.1)\n",
      "Requirement already satisfied: cycler>=0.10 in ./.config/jupyterlab-desktop/jlab_server/lib/python3.12/site-packages (from matplotlib) (0.12.1)\n",
      "Requirement already satisfied: fonttools>=4.22.0 in ./.config/jupyterlab-desktop/jlab_server/lib/python3.12/site-packages (from matplotlib) (4.51.0)\n",
      "Requirement already satisfied: kiwisolver>=1.3.1 in ./.config/jupyterlab-desktop/jlab_server/lib/python3.12/site-packages (from matplotlib) (1.4.5)\n",
      "Requirement already satisfied: packaging>=20.0 in ./.config/jupyterlab-desktop/jlab_server/lib/python3.12/site-packages (from matplotlib) (24.0)\n",
      "Requirement already satisfied: pillow>=8 in ./.config/jupyterlab-desktop/jlab_server/lib/python3.12/site-packages (from matplotlib) (10.3.0)\n",
      "Requirement already satisfied: pyparsing>=2.3.1 in ./.config/jupyterlab-desktop/jlab_server/lib/python3.12/site-packages (from matplotlib) (3.1.2)\n",
      "Requirement already satisfied: scipy>=1.6.0 in ./.config/jupyterlab-desktop/jlab_server/lib/python3.12/site-packages (from scikit-learn) (1.13.1)\n",
      "Requirement already satisfied: joblib>=1.2.0 in ./.config/jupyterlab-desktop/jlab_server/lib/python3.12/site-packages (from scikit-learn) (1.5.1)\n",
      "Requirement already satisfied: threadpoolctl>=3.1.0 in ./.config/jupyterlab-desktop/jlab_server/lib/python3.12/site-packages (from scikit-learn) (3.6.0)\n",
      "Requirement already satisfied: six>=1.5 in ./.config/jupyterlab-desktop/jlab_server/lib/python3.12/site-packages (from python-dateutil>=2.8.2->pandas) (1.16.0)\n",
      "Note: you may need to restart the kernel to use updated packages.\n"
     ]
    }
   ],
   "source": [
    "pip install pyspark pandas matplotlib seaborn scikit-learn\n"
   ]
  },
  {
   "cell_type": "code",
   "execution_count": 23,
   "id": "bf6fad3e-5fb3-4829-937e-e13f384a2e73",
   "metadata": {},
   "outputs": [],
   "source": [
    "from pyspark.sql import SparkSession\n",
    "from pyspark.sql.functions import col, when, regexp_replace, lit\n",
    "from pyspark.ml.feature import VectorAssembler, StandardScaler\n",
    "from pyspark.ml.classification import LogisticRegression\n",
    "from pyspark.ml.evaluation import BinaryClassificationEvaluator\n",
    "import pandas as pd\n",
    "import matplotlib.pyplot as plt\n",
    "import seaborn as sns"
   ]
  },
  {
   "cell_type": "code",
   "execution_count": 24,
   "id": "eeaa918f-32a0-4e94-b5f2-f0f8b6f88ac1",
   "metadata": {},
   "outputs": [],
   "source": [
    "# Создание SparkSession\n",
    "spark = SparkSession.builder \\\n",
    "    .appName(\"Economic Data Analysis\") \\\n",
    "    .config(\"spark.hadoop.fs.defaultFS\", \"hdfs://localhost:9000\") \\\n",
    "    .config(\"spark.ui.port\", \"4050\") \\\n",
    "    .getOrCreate()\n",
    "\n",
    "# Установка количества разделов для shuffle операций\n",
    "spark.conf.set(\"spark.sql.shuffle.partitions\", \"50\")"
   ]
  },
  {
   "cell_type": "code",
   "execution_count": 25,
   "id": "03f65dc1-9c3e-4662-95fb-747a8d8a6c4d",
   "metadata": {},
   "outputs": [
    {
     "name": "stderr",
     "output_type": "stream",
     "text": [
      "                                                                                \r"
     ]
    },
    {
     "name": "stdout",
     "output_type": "stream",
     "text": [
      "+----------------+----------------+--------------------+----------+--------------------+--------+-----+-----------------+--------------------+\n",
      "|Amount Requested|Application Date|          Loan Title|Risk_Score|Debt-To-Income Ratio|Zip Code|State|Employment Length|Policy Code;;;;;;;;;|\n",
      "+----------------+----------------+--------------------+----------+--------------------+--------+-----+-----------------+--------------------+\n",
      "|          1000.0|      2007-05-26|Wedding Covered b...|     693.0|                 10%|   481xx|   NM|          4 years|        0.0;;;;;;;;;|\n",
      "|          1000.0|      2007-05-26|  Consolidating Debt|     703.0|                 10%|   010xx|   MA|         < 1 year|        0.0;;;;;;;;;|\n",
      "|         11000.0|      2007-05-27|Want to consolida...|     715.0|                 10%|   212xx|   MD|           1 year|        0.0;;;;;;;;;|\n",
      "|          6000.0|      2007-05-27|             waksman|     698.0|              38.64%|   017xx|   MA|         < 1 year|        0.0;;;;;;;;;|\n",
      "|          1500.0|      2007-05-27|              mdrigo|     509.0|               9.43%|   209xx|   MD|         < 1 year|        0.0;;;;;;;;;|\n",
      "+----------------+----------------+--------------------+----------+--------------------+--------+-----+-----------------+--------------------+\n",
      "only showing top 5 rows\n",
      "\n"
     ]
    }
   ],
   "source": [
    "# Чтение данных из HDFS\n",
    "file_path = \"hdfs://localhost:9000/user5/hadoop/input/economic_data/rejected_2007_to_2018Q4.csv\"\n",
    "df = spark.read.csv(file_path, header=True, inferSchema=True, sep=\",\", encoding =\"utf-8\")\n",
    "\n",
    "# Просмотр первых строк данных\n",
    "df.show(5)"
   ]
  },
  {
   "cell_type": "markdown",
   "id": "a06c994a-79ce-4994-ba28-2d2c27bf5a19",
   "metadata": {},
   "source": [
    "## Очистка и нормализация данных"
   ]
  },
  {
   "cell_type": "code",
   "execution_count": 26,
   "id": "92ba3697-6e4a-47cd-abbf-8080c4ebd582",
   "metadata": {},
   "outputs": [
    {
     "name": "stdout",
     "output_type": "stream",
     "text": [
      "+----------------+----------------+--------------------+----------+--------------------+--------+-----+-----------------+\n",
      "|Amount Requested|Application Date|          Loan Title|Risk_Score|Debt-To-Income Ratio|Zip Code|State|Employment Length|\n",
      "+----------------+----------------+--------------------+----------+--------------------+--------+-----+-----------------+\n",
      "|          1000.0|      2007-05-26|Wedding Covered b...|     693.0|                 10%|   481xx|   NM|          4 years|\n",
      "|          1000.0|      2007-05-26|  Consolidating Debt|     703.0|                 10%|   010xx|   MA|         < 1 year|\n",
      "|         11000.0|      2007-05-27|Want to consolida...|     715.0|                 10%|   212xx|   MD|           1 year|\n",
      "|          6000.0|      2007-05-27|             waksman|     698.0|              38.64%|   017xx|   MA|         < 1 year|\n",
      "|          1500.0|      2007-05-27|              mdrigo|     509.0|               9.43%|   209xx|   MD|         < 1 year|\n",
      "+----------------+----------------+--------------------+----------+--------------------+--------+-----+-----------------+\n",
      "only showing top 5 rows\n",
      "\n"
     ]
    }
   ],
   "source": [
    "# Удаляем несколько столбцов\n",
    "columns_to_drop = [\"Policy Code;;;;;;;;;\"]\n",
    "\n",
    "df_cleaned = df.drop(*columns_to_drop)\n",
    "\n",
    "# Показываем обновленный DataFrame\n",
    "df_cleaned.show(5)"
   ]
  },
  {
   "cell_type": "code",
   "execution_count": 27,
   "id": "90bcd2f2-ed3f-494d-8ab3-e50b62d1b9e4",
   "metadata": {},
   "outputs": [
    {
     "name": "stdout",
     "output_type": "stream",
     "text": [
      "root\n",
      " |-- Amount Requested: string (nullable = true)\n",
      " |-- Application Date: string (nullable = true)\n",
      " |-- Loan Title: string (nullable = true)\n",
      " |-- Risk_Score: string (nullable = true)\n",
      " |-- Debt-To-Income Ratio: string (nullable = true)\n",
      " |-- Zip Code: string (nullable = true)\n",
      " |-- State: string (nullable = true)\n",
      " |-- Employment Length: string (nullable = true)\n",
      "\n"
     ]
    }
   ],
   "source": [
    "df_cleaned.printSchema()"
   ]
  },
  {
   "cell_type": "code",
   "execution_count": 28,
   "id": "b0323ffb-eada-47f3-88fa-1fda9cae91fb",
   "metadata": {},
   "outputs": [
    {
     "name": "stderr",
     "output_type": "stream",
     "text": [
      "[Stage 14:>                                                         (0 + 2) / 2]\r"
     ]
    },
    {
     "name": "stdout",
     "output_type": "stream",
     "text": [
      "-RECORD 0----------------------------\n",
      " Amount Requested_nulls     | 0      \n",
      " Application Date_nulls     | 26     \n",
      " Loan Title_nulls           | 113    \n",
      " Risk_Score_nulls           | 266867 \n",
      " Debt-To-Income Ratio_nulls | 13     \n",
      " Zip Code_nulls             | 55     \n",
      " State_nulls                | 47     \n",
      " Employment Length_nulls    | 22402  \n",
      "\n"
     ]
    },
    {
     "name": "stderr",
     "output_type": "stream",
     "text": [
      "                                                                                \r"
     ]
    }
   ],
   "source": [
    "from pyspark.sql import functions as F\n",
    "from pyspark.sql.types import NumericType\n",
    "\n",
    "# 1. Проверка пропусков (NULL и NaN) с учетом типов данных\n",
    "null_check_exprs = []\n",
    "for col_name in df_cleaned.columns:\n",
    "    col_type = df_cleaned.schema[col_name].dataType\n",
    "    if isinstance(col_type, NumericType):\n",
    "        # Для числовых столбцов: проверяем и NaN, и NULL\n",
    "        expr = F.count(F.when(F.isnan(col_name) | F.isnull(col_name), col_name))\n",
    "        null_check_exprs.append(expr.alias(f\"{col_name}_nulls\"))\n",
    "    else:\n",
    "        # Для нечисловых: только NULL\n",
    "        expr = F.count(F.when(F.isnull(col_name), col_name))\n",
    "        null_check_exprs.append(expr.alias(f\"{col_name}_nulls\"))\n",
    "\n",
    "null_check = df_cleaned.select(*null_check_exprs)\n",
    "null_check.show(vertical=True)\n"
   ]
  },
  {
   "cell_type": "code",
   "execution_count": 32,
   "id": "7d9e1660-89fe-49e1-a85a-13832031a757",
   "metadata": {},
   "outputs": [],
   "source": [
    "from pyspark.sql.functions import col, regexp_replace, when, lit, to_date"
   ]
  },
  {
   "cell_type": "code",
   "execution_count": 48,
   "id": "7c3708d1-c092-4e92-a35c-66c9b83f805a",
   "metadata": {},
   "outputs": [
    {
     "name": "stdout",
     "output_type": "stream",
     "text": [
      "+----------------+----------------+--------------------+----------+--------------------+--------+-----+-----------------+-------+\n",
      "|Amount Requested|Application Date|          Loan Title|Risk_Score|Debt-To-Income Ratio|Zip Code|State|Employment Length|Default|\n",
      "+----------------+----------------+--------------------+----------+--------------------+--------+-----+-----------------+-------+\n",
      "|          1000.0|      2007-05-26|Wedding Covered b...|     693.0|                10.0|   481xx|   NM|          4 years|      0|\n",
      "|          1000.0|      2007-05-26|  Consolidating Debt|     703.0|                10.0|   010xx|   MA|         < 1 year|      0|\n",
      "|         11000.0|      2007-05-27|Want to consolida...|     715.0|                10.0|   212xx|   MD|           1 year|      0|\n",
      "|          6000.0|      2007-05-27|             waksman|     698.0|               38.64|   017xx|   MA|         < 1 year|      0|\n",
      "|          1500.0|      2007-05-27|              mdrigo|     509.0|                9.43|   209xx|   MD|         < 1 year|      1|\n",
      "+----------------+----------------+--------------------+----------+--------------------+--------+-----+-----------------+-------+\n",
      "only showing top 5 rows\n",
      "\n"
     ]
    },
    {
     "name": "stderr",
     "output_type": "stream",
     "text": [
      "                                                                                \r"
     ]
    }
   ],
   "source": [
    "# Удаление строк с пустыми значениями\n",
    "df1 = df_cleaned.dropna()\n",
    "\n",
    "# Преобразование Risk_Score в числовой формат\n",
    "df2 = df1.withColumn(\"Risk_Score\", col(\"Risk_Score\").cast(\"double\"))\n",
    "\n",
    "# Убираем символ % из Debt-To-Income Ratio и делаем его числом\n",
    "df3 = df2.withColumn(\"Debt-To-Income Ratio\", \n",
    "                   regexp_replace(col(\"Debt-To-Income Ratio\"), \"%\", \"\").cast(\"double\"))\n",
    "\n",
    "df4 = df3.withColumn(\"Amount Requested\", \n",
    "                      regexp_replace(col(\"Amount Requested\"), \"[,$₽€]\", \"\").cast(\"double\"))\n",
    "\n",
    "# Создаем целевую переменную: дефолт, если Risk_Score < 600\n",
    "df_final = df4.withColumn(\"Default\", \n",
    "                           when(col(\"Risk_Score\") < 600, lit(1)).otherwise(lit(0)))\n",
    "df_final.show(5)"
   ]
  },
  {
   "cell_type": "code",
   "execution_count": 49,
   "id": "41011c88-9356-44c3-8300-ec741e7a5ecf",
   "metadata": {},
   "outputs": [],
   "source": [
    "# 3. Переименование столбцов на русский язык\n",
    "translated_df = df_final.withColumnRenamed(\"Amount Requested\", \"Запрашиваемая сумма\") \\\n",
    "                  .withColumnRenamed(\"Application Date\", \"Дата подачи заявки\") \\\n",
    "                  .withColumnRenamed(\"Loan Title\", \"Назначение кредита\") \\\n",
    "                  .withColumnRenamed(\"Risk_Score\", \"Кредитный рейтинг\") \\\n",
    "                  .withColumnRenamed(\"Debt-To-Income Ratio\", \"Долговая нагрузка (%)\") \\\n",
    "                  .withColumnRenamed(\"Zip Code\", \"Почтовый индекс\") \\\n",
    "                  .withColumnRenamed(\"State\", \"Штат\") \\\n",
    "                  .withColumnRenamed(\"Employment Length\", \"Срок занятости\") "
   ]
  },
  {
   "cell_type": "code",
   "execution_count": 50,
   "id": "03c1553f-92a7-42b3-a50a-c4dff1c8793b",
   "metadata": {},
   "outputs": [
    {
     "name": "stderr",
     "output_type": "stream",
     "text": [
      "                                                                                \r"
     ]
    },
    {
     "data": {
      "text/html": [
       "<div>\n",
       "<style scoped>\n",
       "    .dataframe tbody tr th:only-of-type {\n",
       "        vertical-align: middle;\n",
       "    }\n",
       "\n",
       "    .dataframe tbody tr th {\n",
       "        vertical-align: top;\n",
       "    }\n",
       "\n",
       "    .dataframe thead th {\n",
       "        text-align: right;\n",
       "    }\n",
       "</style>\n",
       "<table border=\"1\" class=\"dataframe\">\n",
       "  <thead>\n",
       "    <tr style=\"text-align: right;\">\n",
       "      <th></th>\n",
       "      <th>Запрашиваемая сумма</th>\n",
       "      <th>Дата подачи заявки</th>\n",
       "      <th>Назначение кредита</th>\n",
       "      <th>Кредитный рейтинг</th>\n",
       "      <th>Долговая нагрузка (%)</th>\n",
       "      <th>Почтовый индекс</th>\n",
       "      <th>Штат</th>\n",
       "      <th>Срок занятости</th>\n",
       "      <th>Default</th>\n",
       "    </tr>\n",
       "  </thead>\n",
       "  <tbody>\n",
       "    <tr>\n",
       "      <th>0</th>\n",
       "      <td>1000.0</td>\n",
       "      <td>2007-05-26</td>\n",
       "      <td>Wedding Covered but No Honeymoon</td>\n",
       "      <td>693.0</td>\n",
       "      <td>10.00</td>\n",
       "      <td>481xx</td>\n",
       "      <td>NM</td>\n",
       "      <td>4 years</td>\n",
       "      <td>0</td>\n",
       "    </tr>\n",
       "    <tr>\n",
       "      <th>1</th>\n",
       "      <td>1000.0</td>\n",
       "      <td>2007-05-26</td>\n",
       "      <td>Consolidating Debt</td>\n",
       "      <td>703.0</td>\n",
       "      <td>10.00</td>\n",
       "      <td>010xx</td>\n",
       "      <td>MA</td>\n",
       "      <td>&lt; 1 year</td>\n",
       "      <td>0</td>\n",
       "    </tr>\n",
       "    <tr>\n",
       "      <th>2</th>\n",
       "      <td>11000.0</td>\n",
       "      <td>2007-05-27</td>\n",
       "      <td>Want to consolidate my debt</td>\n",
       "      <td>715.0</td>\n",
       "      <td>10.00</td>\n",
       "      <td>212xx</td>\n",
       "      <td>MD</td>\n",
       "      <td>1 year</td>\n",
       "      <td>0</td>\n",
       "    </tr>\n",
       "    <tr>\n",
       "      <th>3</th>\n",
       "      <td>6000.0</td>\n",
       "      <td>2007-05-27</td>\n",
       "      <td>waksman</td>\n",
       "      <td>698.0</td>\n",
       "      <td>38.64</td>\n",
       "      <td>017xx</td>\n",
       "      <td>MA</td>\n",
       "      <td>&lt; 1 year</td>\n",
       "      <td>0</td>\n",
       "    </tr>\n",
       "    <tr>\n",
       "      <th>4</th>\n",
       "      <td>1500.0</td>\n",
       "      <td>2007-05-27</td>\n",
       "      <td>mdrigo</td>\n",
       "      <td>509.0</td>\n",
       "      <td>9.43</td>\n",
       "      <td>209xx</td>\n",
       "      <td>MD</td>\n",
       "      <td>&lt; 1 year</td>\n",
       "      <td>1</td>\n",
       "    </tr>\n",
       "  </tbody>\n",
       "</table>\n",
       "</div>"
      ],
      "text/plain": [
       "   Запрашиваемая сумма Дата подачи заявки                Назначение кредита  \\\n",
       "0               1000.0         2007-05-26  Wedding Covered but No Honeymoon   \n",
       "1               1000.0         2007-05-26                Consolidating Debt   \n",
       "2              11000.0         2007-05-27       Want to consolidate my debt   \n",
       "3               6000.0         2007-05-27                           waksman   \n",
       "4               1500.0         2007-05-27                            mdrigo   \n",
       "\n",
       "   Кредитный рейтинг  Долговая нагрузка (%) Почтовый индекс Штат  \\\n",
       "0              693.0                  10.00           481xx   NM   \n",
       "1              703.0                  10.00           010xx   MA   \n",
       "2              715.0                  10.00           212xx   MD   \n",
       "3              698.0                  38.64           017xx   MA   \n",
       "4              509.0                   9.43           209xx   MD   \n",
       "\n",
       "  Срок занятости  Default  \n",
       "0        4 years        0  \n",
       "1       < 1 year        0  \n",
       "2         1 year        0  \n",
       "3       < 1 year        0  \n",
       "4       < 1 year        1  "
      ]
     },
     "execution_count": 50,
     "metadata": {},
     "output_type": "execute_result"
    }
   ],
   "source": [
    "df6 = translated_df.toPandas()\n",
    "df6.head(5)"
   ]
  },
  {
   "cell_type": "code",
   "execution_count": 53,
   "id": "17120872-b90d-4614-b773-bcbb3bd50288",
   "metadata": {},
   "outputs": [
    {
     "name": "stdout",
     "output_type": "stream",
     "text": [
      "<class 'pandas.core.frame.DataFrame'>\n",
      "RangeIndex: 771938 entries, 0 to 771937\n",
      "Data columns (total 9 columns):\n",
      " #   Column                 Non-Null Count   Dtype         \n",
      "---  ------                 --------------   -----         \n",
      " 0   Запрашиваемая сумма    770858 non-null  float64       \n",
      " 1   Дата подачи заявки     770858 non-null  datetime64[ns]\n",
      " 2   Назначение кредита     771938 non-null  object        \n",
      " 3   Кредитный рейтинг      771034 non-null  float64       \n",
      " 4   Долговая нагрузка (%)  771054 non-null  float64       \n",
      " 5   Почтовый индекс        771938 non-null  object        \n",
      " 6   Штат                   771938 non-null  object        \n",
      " 7   Срок занятости         771938 non-null  object        \n",
      " 8   Default                771938 non-null  int32         \n",
      "dtypes: datetime64[ns](1), float64(3), int32(1), object(4)\n",
      "memory usage: 50.1+ MB\n"
     ]
    }
   ],
   "source": [
    "df6.info()"
   ]
  },
  {
   "cell_type": "code",
   "execution_count": 52,
   "id": "ca9365f1-ac81-4ddb-a7ec-63efafb5c4b2",
   "metadata": {},
   "outputs": [],
   "source": [
    "df6['Дата подачи заявки'] = pd.to_datetime(df6['Дата подачи заявки'], errors='coerce')"
   ]
  },
  {
   "cell_type": "code",
   "execution_count": 54,
   "id": "bf055da2-b7cb-4e84-844d-1eaa02c07571",
   "metadata": {},
   "outputs": [],
   "source": [
    "# Преобразование Pandas DataFrame обратно в PySpark DataFrame\n",
    "data_spark = spark.createDataFrame(df6)"
   ]
  },
  {
   "cell_type": "code",
   "execution_count": 55,
   "id": "5c0d39c9-8672-4991-8e3e-725be39a8e4c",
   "metadata": {},
   "outputs": [
    {
     "name": "stderr",
     "output_type": "stream",
     "text": [
      "25/06/01 19:30:58 WARN TaskSetManager: Stage 22 contains a task of very large size (30405 KiB). The maximum recommended task size is 1000 KiB.\n",
      "                                                                                \r"
     ]
    },
    {
     "name": "stdout",
     "output_type": "stream",
     "text": [
      "   Default   count\n",
      "0        0  529292\n",
      "1        1  242646\n"
     ]
    },
    {
     "data": {
      "image/png": "[encoded data removed]",
      "text/plain": [
       "<Figure size 800x500 with 1 Axes>"
      ]
     },
     "metadata": {},
     "output_type": "display_data"
    }
   ],
   "source": [
    "#Анализ кредитного риска\n",
    "default_counts = data_spark.groupBy(\"Default\").count().toPandas()\n",
    "print(default_counts)\n",
    "\n",
    "plt.figure(figsize=(8, 5))\n",
    "sns.barplot(x=\"Default\", y=\"count\", data=default_counts)\n",
    "plt.title(\"Распределение дефолтов\")\n",
    "plt.xlabel(\"Дефолт (1) / Нет дефолта (0)\")\n",
    "plt.ylabel(\"Число заемщиков\")\n",
    "plt.show()"
   ]
  },
  {
   "cell_type": "code",
   "execution_count": 56,
   "id": "fe2ee813-aa78-4516-82f9-f5779e167836",
   "metadata": {},
   "outputs": [
    {
     "name": "stderr",
     "output_type": "stream",
     "text": [
      "25/06/01 19:36:55 WARN TaskSetManager: Stage 25 contains a task of very large size (30405 KiB). The maximum recommended task size is 1000 KiB.\n",
      "                                                                                \r"
     ]
    },
    {
     "name": "stdout",
     "output_type": "stream",
     "text": [
      "                       Кредитный рейтинг  Долговая нагрузка (%)\n",
      "Кредитный рейтинг               1.000000              -0.004221\n",
      "Долговая нагрузка (%)          -0.004221               1.000000\n"
     ]
    },
    {
     "data": {
      "image/png": "[encoded data removed]",
      "text/plain": [
       "<Figure size 640x480 with 2 Axes>"
      ]
     },
     "metadata": {},
     "output_type": "display_data"
    }
   ],
   "source": [
    "#Корреляция между риском и долговой нагрузкой\n",
    "corr_data = data_spark.select(\"Кредитный рейтинг\", \"Долговая нагрузка (%)\").toPandas()\n",
    "corr = corr_data.corr()\n",
    "print(corr)\n",
    "\n",
    "sns.heatmap(corr, annot=True, cmap='coolwarm')\n",
    "plt.title(\"Корреляция между Risk Score и DTI\")\n",
    "plt.show()"
   ]
  },
  {
   "cell_type": "code",
   "execution_count": 61,
   "id": "c53536b6-a586-4d11-a321-45dadfe6d087",
   "metadata": {},
   "outputs": [
    {
     "name": "stdout",
     "output_type": "stream",
     "text": [
      "root\n",
      " |-- Запрашиваемая сумма: double (nullable = true)\n",
      " |-- Дата подачи заявки: timestamp (nullable = true)\n",
      " |-- Назначение кредита: string (nullable = true)\n",
      " |-- Кредитный рейтинг: double (nullable = true)\n",
      " |-- Долговая нагрузка (%): double (nullable = true)\n",
      " |-- Почтовый индекс: string (nullable = true)\n",
      " |-- Штат: string (nullable = true)\n",
      " |-- Срок занятости: string (nullable = true)\n",
      " |-- Default: long (nullable = true)\n",
      "\n"
     ]
    }
   ],
   "source": [
    "data_spark.printSchema()"
   ]
  },
  {
   "cell_type": "markdown",
   "id": "f2e944d8-3d67-43af-9556-9bffe6eca1a5",
   "metadata": {},
   "source": [
    "## Сегментация "
   ]
  },
  {
   "cell_type": "code",
   "execution_count": 66,
   "id": "59ef72e7-1f07-4b73-9811-e0b1b70967e6",
   "metadata": {},
   "outputs": [
    {
     "name": "stderr",
     "output_type": "stream",
     "text": [
      "25/06/01 20:05:01 WARN TaskSetManager: Stage 31 contains a task of very large size (30405 KiB). The maximum recommended task size is 1000 KiB.\n",
      "                                                                                \r"
     ]
    },
    {
     "name": "stdout",
     "output_type": "stream",
     "text": [
      "  Уровень риска   count\n",
      "0       Средний  399855\n",
      "1        Низкий  242646\n",
      "2       Высокий  129437\n"
     ]
    },
    {
     "data": {
      "image/png": "[encoded data removed]",
      "text/plain": [
       "<Figure size 800x500 with 1 Axes>"
      ]
     },
     "metadata": {},
     "output_type": "display_data"
    }
   ],
   "source": [
    "#Сегментация заемщиков\n",
    "segments = data_spark.withColumn(\"Уровень риска\",\n",
    "                         when(col(\"Кредитный рейтинг\") >= 700, \"Высокий\")\n",
    "                         .when(col(\"Кредитный рейтинг\") >= 600, \"Средний\")\n",
    "                         .otherwise(\"Низкий\"))\n",
    "\n",
    "segment_counts = segments.groupBy(\"Уровень риска\").count().toPandas()\n",
    "print(segment_counts)\n",
    "\n",
    "plt.figure(figsize=(8, 5))\n",
    "sns.barplot(x=\"Уровень риска\", y=\"count\", data=segment_counts,\n",
    "            order=[\"Высокий\", \"Средний\", \"Низкий\"])\n",
    "plt.title(\"Сегментация заемщиков по уровню риска\")\n",
    "plt.xlabel(\"Уровень риска\")\n",
    "plt.ylabel(\"Число заемщиков\")\n",
    "plt.show()"
   ]
  },
  {
   "cell_type": "code",
   "execution_count": 67,
   "id": "37279aee-6012-4b49-8a15-a3ed34a5242b",
   "metadata": {},
   "outputs": [
    {
     "name": "stderr",
     "output_type": "stream",
     "text": [
      "25/06/01 20:05:49 WARN TaskSetManager: Stage 34 contains a task of very large size (30405 KiB). The maximum recommended task size is 1000 KiB.\n",
      "                                                                                \r"
     ]
    },
    {
     "data": {
      "image/png": "[encoded data removed]",
      "text/plain": [
       "<Figure size 1000x600 with 1 Axes>"
      ]
     },
     "metadata": {},
     "output_type": "display_data"
    }
   ],
   "source": [
    "#Визуализация распределения Risk Score\n",
    "risk_scores = data_spark.select(\"Кредитный рейтинг\").toPandas()\n",
    "\n",
    "plt.figure(figsize=(10, 6))\n",
    "sns.histplot(risk_scores, x=\"Кредитный рейтинг\", bins=30, kde=True)\n",
    "plt.title(\"Распределение Risk Score\")\n",
    "plt.xlabel(\"Кредитный рейтинг\")\n",
    "plt.ylabel(\"Частота\")\n",
    "plt.show()"
   ]
  },
  {
   "cell_type": "code",
   "execution_count": 68,
   "id": "f00180de-879d-4e6b-a785-37191ba34e45",
   "metadata": {},
   "outputs": [
    {
     "name": "stderr",
     "output_type": "stream",
     "text": [
      "25/06/01 20:10:07 WARN TaskSetManager: Stage 35 contains a task of very large size (30405 KiB). The maximum recommended task size is 1000 KiB.\n",
      "                                                                                \r"
     ]
    }
   ],
   "source": [
    "# Путь в HDFS для сохранения\n",
    "finaly_date = \"hdfs://localhost:9000/user5/hadoop/input/economic_data/finaly_data.csv\"\n",
    "\n",
    "# Сохранение DataFrame в формате CSV в HDFS\n",
    "data_spark.write.csv(finaly_date, header=True, mode='overwrite')"
   ]
  },
  {
   "cell_type": "code",
   "execution_count": 69,
   "id": "24206cff-0ccb-4103-8034-38b3ff27f9e4",
   "metadata": {},
   "outputs": [
    {
     "name": "stderr",
     "output_type": "stream",
     "text": [
      "25/06/01 20:11:47 WARN TaskSetManager: Stage 36 contains a task of very large size (30405 KiB). The maximum recommended task size is 1000 KiB.\n",
      "                                                                                \r"
     ]
    },
    {
     "data": {
      "text/html": [
       "<div>\n",
       "<style scoped>\n",
       "    .dataframe tbody tr th:only-of-type {\n",
       "        vertical-align: middle;\n",
       "    }\n",
       "\n",
       "    .dataframe tbody tr th {\n",
       "        vertical-align: top;\n",
       "    }\n",
       "\n",
       "    .dataframe thead th {\n",
       "        text-align: right;\n",
       "    }\n",
       "</style>\n",
       "<table border=\"1\" class=\"dataframe\">\n",
       "  <thead>\n",
       "    <tr style=\"text-align: right;\">\n",
       "      <th></th>\n",
       "      <th>Запрашиваемая сумма</th>\n",
       "      <th>Дата подачи заявки</th>\n",
       "      <th>Назначение кредита</th>\n",
       "      <th>Кредитный рейтинг</th>\n",
       "      <th>Долговая нагрузка (%)</th>\n",
       "      <th>Почтовый индекс</th>\n",
       "      <th>Штат</th>\n",
       "      <th>Срок занятости</th>\n",
       "      <th>Default</th>\n",
       "    </tr>\n",
       "  </thead>\n",
       "  <tbody>\n",
       "    <tr>\n",
       "      <th>0</th>\n",
       "      <td>1000.0</td>\n",
       "      <td>2007-05-26</td>\n",
       "      <td>Wedding Covered but No Honeymoon</td>\n",
       "      <td>693.0</td>\n",
       "      <td>10.00</td>\n",
       "      <td>481xx</td>\n",
       "      <td>NM</td>\n",
       "      <td>4 years</td>\n",
       "      <td>0</td>\n",
       "    </tr>\n",
       "    <tr>\n",
       "      <th>1</th>\n",
       "      <td>1000.0</td>\n",
       "      <td>2007-05-26</td>\n",
       "      <td>Consolidating Debt</td>\n",
       "      <td>703.0</td>\n",
       "      <td>10.00</td>\n",
       "      <td>010xx</td>\n",
       "      <td>MA</td>\n",
       "      <td>&lt; 1 year</td>\n",
       "      <td>0</td>\n",
       "    </tr>\n",
       "    <tr>\n",
       "      <th>2</th>\n",
       "      <td>11000.0</td>\n",
       "      <td>2007-05-27</td>\n",
       "      <td>Want to consolidate my debt</td>\n",
       "      <td>715.0</td>\n",
       "      <td>10.00</td>\n",
       "      <td>212xx</td>\n",
       "      <td>MD</td>\n",
       "      <td>1 year</td>\n",
       "      <td>0</td>\n",
       "    </tr>\n",
       "    <tr>\n",
       "      <th>3</th>\n",
       "      <td>6000.0</td>\n",
       "      <td>2007-05-27</td>\n",
       "      <td>waksman</td>\n",
       "      <td>698.0</td>\n",
       "      <td>38.64</td>\n",
       "      <td>017xx</td>\n",
       "      <td>MA</td>\n",
       "      <td>&lt; 1 year</td>\n",
       "      <td>0</td>\n",
       "    </tr>\n",
       "    <tr>\n",
       "      <th>4</th>\n",
       "      <td>1500.0</td>\n",
       "      <td>2007-05-27</td>\n",
       "      <td>mdrigo</td>\n",
       "      <td>509.0</td>\n",
       "      <td>9.43</td>\n",
       "      <td>209xx</td>\n",
       "      <td>MD</td>\n",
       "      <td>&lt; 1 year</td>\n",
       "      <td>1</td>\n",
       "    </tr>\n",
       "  </tbody>\n",
       "</table>\n",
       "</div>"
      ],
      "text/plain": [
       "   Запрашиваемая сумма Дата подачи заявки                Назначение кредита  \\\n",
       "0               1000.0         2007-05-26  Wedding Covered but No Honeymoon   \n",
       "1               1000.0         2007-05-26                Consolidating Debt   \n",
       "2              11000.0         2007-05-27       Want to consolidate my debt   \n",
       "3               6000.0         2007-05-27                           waksman   \n",
       "4               1500.0         2007-05-27                            mdrigo   \n",
       "\n",
       "   Кредитный рейтинг  Долговая нагрузка (%) Почтовый индекс Штат  \\\n",
       "0              693.0                  10.00           481xx   NM   \n",
       "1              703.0                  10.00           010xx   MA   \n",
       "2              715.0                  10.00           212xx   MD   \n",
       "3              698.0                  38.64           017xx   MA   \n",
       "4              509.0                   9.43           209xx   MD   \n",
       "\n",
       "  Срок занятости  Default  \n",
       "0        4 years        0  \n",
       "1       < 1 year        0  \n",
       "2         1 year        0  \n",
       "3       < 1 year        0  \n",
       "4       < 1 year        1  "
      ]
     },
     "execution_count": 69,
     "metadata": {},
     "output_type": "execute_result"
    }
   ],
   "source": [
    "pandas_df = data_spark.toPandas()\n",
    "pandas_df.head()"
   ]
  },
  {
   "cell_type": "code",
   "execution_count": 71,
   "id": "7411a3bb-278f-4fc5-b6e3-ec13c1d53251",
   "metadata": {},
   "outputs": [
    {
     "data": {
      "text/html": [
       "<div>\n",
       "<style scoped>\n",
       "    .dataframe tbody tr th:only-of-type {\n",
       "        vertical-align: middle;\n",
       "    }\n",
       "\n",
       "    .dataframe tbody tr th {\n",
       "        vertical-align: top;\n",
       "    }\n",
       "\n",
       "    .dataframe thead th {\n",
       "        text-align: right;\n",
       "    }\n",
       "</style>\n",
       "<table border=\"1\" class=\"dataframe\">\n",
       "  <thead>\n",
       "    <tr style=\"text-align: right;\">\n",
       "      <th></th>\n",
       "      <th>Запрашиваемая сумма</th>\n",
       "      <th>Дата подачи заявки</th>\n",
       "      <th>Кредитный рейтинг</th>\n",
       "      <th>Долговая нагрузка (%)</th>\n",
       "      <th>Default</th>\n",
       "    </tr>\n",
       "  </thead>\n",
       "  <tbody>\n",
       "    <tr>\n",
       "      <th>count</th>\n",
       "      <td>7.708580e+05</td>\n",
       "      <td>770858</td>\n",
       "      <td>771034.000000</td>\n",
       "      <td>7.710540e+05</td>\n",
       "      <td>771938.000000</td>\n",
       "    </tr>\n",
       "    <tr>\n",
       "      <th>mean</th>\n",
       "      <td>1.311530e+04</td>\n",
       "      <td>2011-11-26 07:45:43.499841024</td>\n",
       "      <td>593.358283</td>\n",
       "      <td>5.821708e+02</td>\n",
       "      <td>0.314334</td>\n",
       "    </tr>\n",
       "    <tr>\n",
       "      <th>min</th>\n",
       "      <td>5.000000e+02</td>\n",
       "      <td>2007-05-26 00:00:00</td>\n",
       "      <td>0.000000</td>\n",
       "      <td>-1.000000e+00</td>\n",
       "      <td>0.000000</td>\n",
       "    </tr>\n",
       "    <tr>\n",
       "      <th>25%</th>\n",
       "      <td>5.000000e+03</td>\n",
       "      <td>2011-01-30 00:00:00</td>\n",
       "      <td>575.000000</td>\n",
       "      <td>6.190000e+00</td>\n",
       "      <td>0.000000</td>\n",
       "    </tr>\n",
       "    <tr>\n",
       "      <th>50%</th>\n",
       "      <td>1.000000e+04</td>\n",
       "      <td>2011-12-15 00:00:00</td>\n",
       "      <td>643.000000</td>\n",
       "      <td>1.726000e+01</td>\n",
       "      <td>0.000000</td>\n",
       "    </tr>\n",
       "    <tr>\n",
       "      <th>75%</th>\n",
       "      <td>2.000000e+04</td>\n",
       "      <td>2012-08-29 00:00:00</td>\n",
       "      <td>684.000000</td>\n",
       "      <td>3.115000e+01</td>\n",
       "      <td>1.000000</td>\n",
       "    </tr>\n",
       "    <tr>\n",
       "      <th>max</th>\n",
       "      <td>1.400000e+06</td>\n",
       "      <td>2016-04-23 00:00:00</td>\n",
       "      <td>975.000000</td>\n",
       "      <td>5.000003e+07</td>\n",
       "      <td>1.000000</td>\n",
       "    </tr>\n",
       "    <tr>\n",
       "      <th>std</th>\n",
       "      <td>1.080044e+04</td>\n",
       "      <td>NaN</td>\n",
       "      <td>174.680666</td>\n",
       "      <td>5.915118e+04</td>\n",
       "      <td>0.464250</td>\n",
       "    </tr>\n",
       "  </tbody>\n",
       "</table>\n",
       "</div>"
      ],
      "text/plain": [
       "       Запрашиваемая сумма             Дата подачи заявки  Кредитный рейтинг  \\\n",
       "count         7.708580e+05                         770858      771034.000000   \n",
       "mean          1.311530e+04  2011-11-26 07:45:43.499841024         593.358283   \n",
       "min           5.000000e+02            2007-05-26 00:00:00           0.000000   \n",
       "25%           5.000000e+03            2011-01-30 00:00:00         575.000000   \n",
       "50%           1.000000e+04            2011-12-15 00:00:00         643.000000   \n",
       "75%           2.000000e+04            2012-08-29 00:00:00         684.000000   \n",
       "max           1.400000e+06            2016-04-23 00:00:00         975.000000   \n",
       "std           1.080044e+04                            NaN         174.680666   \n",
       "\n",
       "       Долговая нагрузка (%)        Default  \n",
       "count           7.710540e+05  771938.000000  \n",
       "mean            5.821708e+02       0.314334  \n",
       "min            -1.000000e+00       0.000000  \n",
       "25%             6.190000e+00       0.000000  \n",
       "50%             1.726000e+01       0.000000  \n",
       "75%             3.115000e+01       1.000000  \n",
       "max             5.000003e+07       1.000000  \n",
       "std             5.915118e+04       0.464250  "
      ]
     },
     "execution_count": 71,
     "metadata": {},
     "output_type": "execute_result"
    }
   ],
   "source": [
    "pandas_df.describe()"
   ]
  },
  {
   "cell_type": "code",
   "execution_count": 70,
   "id": "063d1608-ab29-4f92-9cb4-0e2d92852575",
   "metadata": {},
   "outputs": [],
   "source": [
    "pandas_df.to_csv('/home/devops/Downloads/var2.csv', index=False, encoding='utf-8')"
   ]
  }
 ],
 "metadata": {
  "kernelspec": {
   "display_name": "Python 3 (ipykernel)",
   "language": "python",
   "name": "python3"
  },
  "language_info": {
   "codemirror_mode": {
    "name": "ipython",
    "version": 3
   },
   "file_extension": ".py",
   "mimetype": "text/x-python",
   "name": "python",
   "nbconvert_exporter": "python",
   "pygments_lexer": "ipython3",
   "version": "3.12.3"
  }
 },
 "nbformat": 4,
 "nbformat_minor": 5
}
