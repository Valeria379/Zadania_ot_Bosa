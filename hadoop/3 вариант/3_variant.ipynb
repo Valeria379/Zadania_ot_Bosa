{
 "cells": [
  {
   "cell_type": "markdown",
   "id": "00b48c0f-a876-4621-b6c3-8eaac22f1612",
   "metadata": {},
   "source": [
    "Основные характеристики\n",
    "\n",
    "Источник данных:\n",
    "The Investors Exchange (IEX) API\n",
    "\n",
    "Период:\n",
    "5 лет исторических данных (примерно 2013-2018)\n",
    "Последнее обновление: февраль 2018\n",
    "\n",
    "Охват компаний:\n",
    "Все компании из индекса S&P 500\n",
    "505 компаний \n",
    "\n",
    "Структура данных\n",
    "\n",
    "Колонка  Тип данных  Описание  \n",
    "Date     Дата        Дата торгов в формате ГГГГ-ММ-ДД  2013-02-08\n",
    "Open     Число       Цена открытия (USD)  15.07\n",
    "High     Число       Максимальная цена дня (USD)  15.12\n",
    "Low      Число       Минимальная цена дня (USD)  14.63\n",
    "Close    Число       Цена закрытия (USD)  14.75\n",
    "Volume   Целое       Количество проданных акций  8,407,500\n",
    "Name     Строка      Тикер акции  AAL"
   ]
  },
  {
   "cell_type": "code",
   "execution_count": 1,
   "id": "b086a6b7-b8ab-4b80-b75f-7ba19c1e8ae9",
   "metadata": {},
   "outputs": [
    {
     "name": "stdout",
     "output_type": "stream",
     "text": [
      "Requirement already satisfied: pyspark in ./.config/jupyterlab-desktop/jlab_server/lib/python3.12/site-packages (3.5.3)\n",
      "Requirement already satisfied: py4j==0.10.9.7 in ./.config/jupyterlab-desktop/jlab_server/lib/python3.12/site-packages (from pyspark) (0.10.9.7)\n"
     ]
    }
   ],
   "source": [
    "!pip install pyspark"
   ]
  },
  {
   "cell_type": "code",
   "execution_count": 1,
   "id": "7addf5c0-daf1-4a6c-a55b-5084f9a6a24d",
   "metadata": {},
   "outputs": [],
   "source": [
    "import pandas as pd\n",
    "import matplotlib.pyplot as plt"
   ]
  },
  {
   "cell_type": "code",
   "execution_count": 2,
   "id": "8cc35124-3d50-48fe-bbf4-e74fd35f0552",
   "metadata": {},
   "outputs": [
    {
     "name": "stderr",
     "output_type": "stream",
     "text": [
      "25/06/01 10:15:42 WARN Utils: Your hostname, devopsvm resolves to a loopback address: 127.0.1.1; using 192.168.111.198 instead (on interface enp0s3)\n",
      "25/06/01 10:15:42 WARN Utils: Set SPARK_LOCAL_IP if you need to bind to another address\n",
      "Setting default log level to \"WARN\".\n",
      "To adjust logging level use sc.setLogLevel(newLevel). For SparkR, use setLogLevel(newLevel).\n",
      "25/06/01 10:15:43 WARN NativeCodeLoader: Unable to load native-hadoop library for your platform... using builtin-java classes where applicable\n"
     ]
    }
   ],
   "source": [
    "from pyspark.sql import SparkSession\n",
    "\n",
    "# Создание SparkSession\n",
    "spark = SparkSession.builder \\\n",
    "    .appName(\"Economic Data Analysis\") \\\n",
    "    .config(\"spark.hadoop.fs.defaultFS\", \"hdfs://localhost:9000\") \\\n",
    "    .config(\"spark.ui.port\", \"4050\") \\\n",
    "    .getOrCreate()\n",
    "\n",
    "# Установка количества разделов для shuffle операций\n",
    "spark.conf.set(\"spark.sql.shuffle.partitions\", \"50\")"
   ]
  },
  {
   "cell_type": "code",
   "execution_count": 3,
   "id": "3f0c0170-477e-45ab-8233-ac057eb55bc7",
   "metadata": {},
   "outputs": [
    {
     "name": "stderr",
     "output_type": "stream",
     "text": [
      "                                                                                \r"
     ]
    }
   ],
   "source": [
    "from pyspark.sql import functions as F\n",
    "from pyspark.sql.types import DoubleType, LongType\n",
    "\n",
    "# 1. Чтение данных\n",
    "data = spark.read.option(\"header\", \"true\").csv(\"hdfs://localhost:9000/3_zadanie/hadoop/input/all_stocks_5yr.csv\")"
   ]
  },
  {
   "cell_type": "markdown",
   "id": "d58ae6d5-926a-4144-a195-1323b97060d2",
   "metadata": {},
   "source": [
    "Данный график был объединен с графиками по скользящим средним. Скользящие средние сглаживают ценовые колебания, что помогает определить тренды. Для анализа краткосрочных трендов я построила 10-дневную SMA, а для долгосрочных трендов 50-дневная."
   ]
  },
  {
   "cell_type": "code",
   "execution_count": 5,
   "id": "04590927-0c34-41de-82fa-30fa89e53ee4",
   "metadata": {},
   "outputs": [
    {
     "name": "stdout",
     "output_type": "stream",
     "text": [
      "[('date', 'string'), ('open', 'string'), ('high', 'string'), ('low', 'string'), ('close', 'string'), ('volume', 'string'), ('Name', 'string')]\n"
     ]
    }
   ],
   "source": [
    "print(data.dtypes)"
   ]
  },
  {
   "cell_type": "markdown",
   "id": "f5f04bad-fb7e-40ce-aae6-d13e471a5bc2",
   "metadata": {},
   "source": [
    "Надо поменять тип даты на дату, а также данные со стоимостью привести к числовому виду, только Name оставить неизменным."
   ]
  },
  {
   "cell_type": "code",
   "execution_count": 4,
   "id": "b5893f49-abeb-4b26-8095-271eae9c81ba",
   "metadata": {},
   "outputs": [
    {
     "name": "stdout",
     "output_type": "stream",
     "text": [
      "[('date', 'date'), ('open', 'double'), ('high', 'double'), ('low', 'double'), ('close', 'double'), ('volume', 'bigint'), ('Name', 'string')]\n"
     ]
    }
   ],
   "source": [
    "dataTyped = data.select(\n",
    "    F.to_date(\"date\", \"yyyy-MM-dd\").alias(\"date\"),\n",
    "    data[\"open\"].cast(DoubleType()).alias(\"open\"),\n",
    "    data[\"high\"].cast(DoubleType()).alias(\"high\"),\n",
    "    data[\"low\"].cast(DoubleType()).alias(\"low\"),\n",
    "    data[\"close\"].cast(DoubleType()).alias(\"close\"),\n",
    "    F.regexp_replace(data[\"volume\"], \",\", \"\").cast(LongType()).alias(\"volume\"),\n",
    "    data[\"Name\"]\n",
    ")\n",
    "\n",
    "print(dataTyped.dtypes)"
   ]
  },
  {
   "cell_type": "markdown",
   "id": "067042f8-a433-4aa4-b8fe-c10da46825d6",
   "metadata": {},
   "source": [
    "Все типы данных исходного файла в порядке. Далее был осуществлен поиск дубликатов и проведена описательная статистика."
   ]
  },
  {
   "cell_type": "code",
   "execution_count": 8,
   "id": "4d4fe424-85c9-478a-9d6b-1c7cf117a644",
   "metadata": {},
   "outputs": [
    {
     "name": "stderr",
     "output_type": "stream",
     "text": [
      "                                                                                \r"
     ]
    },
    {
     "name": "stdout",
     "output_type": "stream",
     "text": [
      "+----+----+----+---+-----+------+----+---+\n",
      "|date|open|high|low|close|volume|Name|cnt|\n",
      "+----+----+----+---+-----+------+----+---+\n",
      "+----+----+----+---+-----+------+----+---+\n",
      "\n"
     ]
    }
   ],
   "source": [
    "from pyspark.sql import functions as F\n",
    "\n",
    "duplicates = dataTyped.groupBy(dataTyped.columns).agg(F.count(\"*\").alias(\"cnt\")).filter(F.col(\"cnt\") > 1)\n",
    "duplicates.show()"
   ]
  },
  {
   "cell_type": "markdown",
   "id": "e755c8e4-904f-461c-a3c7-2761b78d1290",
   "metadata": {},
   "source": [
    "Дублей нет."
   ]
  },
  {
   "cell_type": "code",
   "execution_count": 9,
   "id": "65d0dff8-a7ba-45ce-b7b2-c88c0d6f62e1",
   "metadata": {},
   "outputs": [
    {
     "name": "stderr",
     "output_type": "stream",
     "text": [
      "25/05/31 22:19:39 WARN SparkStringUtils: Truncated the string representation of a plan since it was too large. This behavior can be adjusted by setting 'spark.sql.debug.maxToStringFields'.\n",
      "[Stage 6:=============================>                             (1 + 1) / 2]\r"
     ]
    },
    {
     "name": "stdout",
     "output_type": "stream",
     "text": [
      "+-------+-----------------+-----------------+-----------------+-----------------+-----------------+------+\n",
      "|summary|             open|             high|              low|            close|           volume|  Name|\n",
      "+-------+-----------------+-----------------+-----------------+-----------------+-----------------+------+\n",
      "|  count|           619029|           619032|           619032|           619040|           619040|619040|\n",
      "|   mean|83.02333431454696|83.77831069346465|82.25609641375786|83.04376276476573|4321823.395568945|  NULL|\n",
      "| stddev| 97.3787690433231|  98.207518904464| 96.5074210580914|97.38974800165752|8693609.511967659|  NULL|\n",
      "|    min|             1.62|             1.69|              1.5|             1.59|                0|     A|\n",
      "|    max|           2044.0|          2067.99|          2035.11|           2049.0|        618237630|   ZTS|\n",
      "+-------+-----------------+-----------------+-----------------+-----------------+-----------------+------+\n",
      "\n"
     ]
    },
    {
     "name": "stderr",
     "output_type": "stream",
     "text": [
      "                                                                                \r"
     ]
    }
   ],
   "source": [
    "descriptive_stats = dataTyped.describe()\n",
    "descriptive_stats.show()"
   ]
  },
  {
   "cell_type": "markdown",
   "id": "a0c492f6-dd04-4ccb-9054-5d0ff89185ac",
   "metadata": {},
   "source": [
    "Стандартное отклонение ~$97.4 показывает высокую волатильность. Есть тихие дни (0 акций) и пиковые (618 млн акций)."
   ]
  },
  {
   "cell_type": "code",
   "execution_count": 5,
   "id": "491d92e0-d0f8-441e-83d0-e00cbcea91f0",
   "metadata": {},
   "outputs": [
    {
     "name": "stdout",
     "output_type": "stream",
     "text": [
      "Схема данных:\n",
      "root\n",
      " |-- date: date (nullable = true)\n",
      " |-- open: double (nullable = true)\n",
      " |-- high: double (nullable = true)\n",
      " |-- low: double (nullable = true)\n",
      " |-- close: double (nullable = true)\n",
      " |-- volume: long (nullable = true)\n",
      " |-- Name: string (nullable = true)\n",
      " |-- YEAR: integer (nullable = true)\n",
      " |-- MONTH: integer (nullable = true)\n",
      " |-- QUARTER: integer (nullable = true)\n",
      " |-- DAY_OF_WEEK: integer (nullable = true)\n",
      " |-- DAY_NAME: string (nullable = false)\n",
      "\n",
      "\n",
      "Пример данных:\n",
      "+----------+----+-------+-----------+---------+\n",
      "|date      |YEAR|QUARTER|DAY_OF_WEEK|DAY_NAME |\n",
      "+----------+----+-------+-----------+---------+\n",
      "|2013-02-08|2013|1      |6          |Friday   |\n",
      "|2013-02-11|2013|1      |2          |Monday   |\n",
      "|2013-02-12|2013|1      |3          |Tuesday  |\n",
      "|2013-02-13|2013|1      |4          |Wednesday|\n",
      "|2013-02-14|2013|1      |5          |Thursday |\n",
      "+----------+----+-------+-----------+---------+\n",
      "only showing top 5 rows\n",
      "\n"
     ]
    }
   ],
   "source": [
    "# 3. Добавление временных признаков\n",
    "df = (dataTyped\n",
    "      .withColumn(\"YEAR\", F.year(\"date\"))\n",
    "      .withColumn(\"MONTH\", F.month(\"date\"))\n",
    "      .withColumn(\"QUARTER\", F.quarter(\"date\"))\n",
    "      .withColumn(\"DAY_OF_WEEK\", F.dayofweek(\"date\"))\n",
    "      .withColumn(\"DAY_NAME\", \n",
    "                  F.when(F.col(\"DAY_OF_WEEK\") == 1, \"Sunday\")\n",
    "                   .when(F.col(\"DAY_OF_WEEK\") == 2, \"Monday\")\n",
    "                   .when(F.col(\"DAY_OF_WEEK\") == 3, \"Tuesday\")\n",
    "                   .when(F.col(\"DAY_OF_WEEK\") == 4, \"Wednesday\")\n",
    "                   .when(F.col(\"DAY_OF_WEEK\") == 5, \"Thursday\")\n",
    "                   .when(F.col(\"DAY_OF_WEEK\") == 6, \"Friday\")\n",
    "                   .otherwise(\"Saturday\")))\n",
    "\n",
    "# 4. Проверка результата\n",
    "print(\"Схема данных:\")\n",
    "df.printSchema()\n",
    "\n",
    "print(\"\\nПример данных:\")\n",
    "df.select(\"date\", \"YEAR\", \"QUARTER\", \"DAY_OF_WEEK\", \"DAY_NAME\").show(5, truncate=False)"
   ]
  },
  {
   "cell_type": "code",
   "execution_count": 6,
   "id": "9e098684-bee4-462a-8308-2eec3950a0cb",
   "metadata": {},
   "outputs": [
    {
     "name": "stderr",
     "output_type": "stream",
     "text": [
      "                                                                                \r"
     ]
    },
    {
     "name": "stdout",
     "output_type": "stream",
     "text": [
      "-RECORD 0----------------\n",
      " date_nulls        | 0   \n",
      " open_nulls        | 11  \n",
      " high_nulls        | 8   \n",
      " low_nulls         | 8   \n",
      " close_nulls       | 0   \n",
      " volume_nulls      | 0   \n",
      " Name_nulls        | 0   \n",
      " YEAR_nulls        | 0   \n",
      " MONTH_nulls       | 0   \n",
      " QUARTER_nulls     | 0   \n",
      " DAY_OF_WEEK_nulls | 0   \n",
      " DAY_NAME_nulls    | 0   \n",
      "\n"
     ]
    },
    {
     "name": "stderr",
     "output_type": "stream",
     "text": [
      "[Stage 5:=============================>                             (1 + 1) / 2]\r"
     ]
    },
    {
     "name": "stdout",
     "output_type": "stream",
     "text": [
      "-RECORD 0----------------\n",
      " open_zeros        | 0   \n",
      " high_zeros        | 0   \n",
      " low_zeros         | 0   \n",
      " close_zeros       | 0   \n",
      " volume_zeros      | 4   \n",
      " YEAR_zeros        | 0   \n",
      " MONTH_zeros       | 0   \n",
      " QUARTER_zeros     | 0   \n",
      " DAY_OF_WEEK_zeros | 0   \n",
      "\n"
     ]
    },
    {
     "name": "stderr",
     "output_type": "stream",
     "text": [
      "                                                                                \r"
     ]
    }
   ],
   "source": [
    "from pyspark.sql import functions as F\n",
    "from pyspark.sql.types import NumericType\n",
    "\n",
    "# 1. Проверка пропусков (NULL и NaN) с учетом типов данных\n",
    "null_check_exprs = []\n",
    "for col_name in df.columns:\n",
    "    col_type = df.schema[col_name].dataType\n",
    "    if isinstance(col_type, NumericType):\n",
    "        # Для числовых столбцов: проверяем и NaN, и NULL\n",
    "        expr = F.count(F.when(F.isnan(col_name) | F.isnull(col_name), col_name))\n",
    "        null_check_exprs.append(expr.alias(f\"{col_name}_nulls\"))\n",
    "    else:\n",
    "        # Для нечисловых: только NULL\n",
    "        expr = F.count(F.when(F.isnull(col_name), col_name))\n",
    "        null_check_exprs.append(expr.alias(f\"{col_name}_nulls\"))\n",
    "\n",
    "null_check = df.select(*null_check_exprs)\n",
    "null_check.show(vertical=True)\n",
    "\n",
    "# 2. Проверка нулевых значений только для числовых столбцов\n",
    "zero_check_exprs = []\n",
    "for c in df.columns:\n",
    "    if isinstance(df.schema[c].dataType, NumericType):\n",
    "        expr = F.count(F.when(F.col(c) == 0, c))\n",
    "        zero_check_exprs.append(expr.alias(f\"{c}_zeros\"))\n",
    "\n",
    "if zero_check_exprs:\n",
    "    zero_check = df.select(*zero_check_exprs)\n",
    "    zero_check.show(vertical=True)\n",
    "else:\n",
    "    print(\"Нет числовых столбцов для проверки нулей\")"
   ]
  },
  {
   "cell_type": "markdown",
   "id": "60679534-ab8f-4258-9ecf-945b1206caeb",
   "metadata": {},
   "source": [
    "Отсутствуют цены открытия 11, максимальная 8, минимальная 8 и у 4 нет информации о торгах. Данных мало, можно удалить."
   ]
  },
  {
   "cell_type": "code",
   "execution_count": 7,
   "id": "9f1428ae-6fdd-4440-8d60-b58dc7e63416",
   "metadata": {},
   "outputs": [
    {
     "name": "stdout",
     "output_type": "stream",
     "text": [
      "Исходный размер: 619040 строк\n"
     ]
    },
    {
     "name": "stderr",
     "output_type": "stream",
     "text": [
      "                                                                                \r"
     ]
    },
    {
     "name": "stdout",
     "output_type": "stream",
     "text": [
      "После очистки: 619029 строк\n"
     ]
    },
    {
     "name": "stderr",
     "output_type": "stream",
     "text": [
      "                                                                                \r"
     ]
    },
    {
     "name": "stdout",
     "output_type": "stream",
     "text": [
      "Удалено строк: 11\n"
     ]
    },
    {
     "name": "stderr",
     "output_type": "stream",
     "text": [
      "[Stage 20:=============================>                            (1 + 1) / 2]\r"
     ]
    },
    {
     "name": "stdout",
     "output_type": "stream",
     "text": [
      "+----------+----------+---------+------------+\n",
      "|open_nulls|high_nulls|low_nulls|volume_zeros|\n",
      "+----------+----------+---------+------------+\n",
      "|         0|         0|        0|           0|\n",
      "+----------+----------+---------+------------+\n",
      "\n"
     ]
    },
    {
     "name": "stderr",
     "output_type": "stream",
     "text": [
      "                                                                                \r"
     ]
    }
   ],
   "source": [
    "from pyspark.sql import functions as F\n",
    "\n",
    "# Удаление строк с пропусками в ценах\n",
    "df_clean = df.dropna(subset=[\"open\", \"high\", \"low\"])\n",
    "\n",
    "# Удаление строк с нулевым объемом\n",
    "df_clean = df_clean.filter(F.col(\"volume\") != 0)\n",
    "\n",
    "# Проверка результатов\n",
    "print(f\"Исходный размер: {df.count()} строк\")\n",
    "print(f\"После очистки: {df_clean.count()} строк\")\n",
    "print(f\"Удалено строк: {df.count() - df_clean.count()}\")\n",
    "\n",
    "# Проверка пропусков/нулей после очистки\n",
    "df_clean.agg(\n",
    "    F.count(F.when(F.isnull(\"open\"), 1)).alias(\"open_nulls\"),\n",
    "    F.count(F.when(F.isnull(\"high\"), 1)).alias(\"high_nulls\"),\n",
    "    F.count(F.when(F.isnull(\"low\"), 1)).alias(\"low_nulls\"),\n",
    "    F.count(F.when(F.col(\"volume\") == 0, 1)).alias(\"volume_zeros\")\n",
    ").show()"
   ]
  },
  {
   "cell_type": "code",
   "execution_count": 8,
   "id": "01c8f3e9-9699-466b-9226-5c278e4f0f01",
   "metadata": {},
   "outputs": [
    {
     "name": "stderr",
     "output_type": "stream",
     "text": [
      "                                                                                \r"
     ]
    },
    {
     "data": {
      "text/html": [
       "<div>\n",
       "<style scoped>\n",
       "    .dataframe tbody tr th:only-of-type {\n",
       "        vertical-align: middle;\n",
       "    }\n",
       "\n",
       "    .dataframe tbody tr th {\n",
       "        vertical-align: top;\n",
       "    }\n",
       "\n",
       "    .dataframe thead th {\n",
       "        text-align: right;\n",
       "    }\n",
       "</style>\n",
       "<table border=\"1\" class=\"dataframe\">\n",
       "  <thead>\n",
       "    <tr style=\"text-align: right;\">\n",
       "      <th></th>\n",
       "      <th>date</th>\n",
       "      <th>open</th>\n",
       "      <th>high</th>\n",
       "      <th>low</th>\n",
       "      <th>close</th>\n",
       "      <th>volume</th>\n",
       "      <th>Name</th>\n",
       "      <th>YEAR</th>\n",
       "      <th>MONTH</th>\n",
       "      <th>QUARTER</th>\n",
       "      <th>DAY_OF_WEEK</th>\n",
       "      <th>DAY_NAME</th>\n",
       "    </tr>\n",
       "  </thead>\n",
       "  <tbody>\n",
       "    <tr>\n",
       "      <th>0</th>\n",
       "      <td>2013-02-08</td>\n",
       "      <td>15.07</td>\n",
       "      <td>15.12</td>\n",
       "      <td>14.63</td>\n",
       "      <td>14.75</td>\n",
       "      <td>8407500</td>\n",
       "      <td>AAL</td>\n",
       "      <td>2013</td>\n",
       "      <td>2</td>\n",
       "      <td>1</td>\n",
       "      <td>6</td>\n",
       "      <td>Friday</td>\n",
       "    </tr>\n",
       "    <tr>\n",
       "      <th>1</th>\n",
       "      <td>2013-02-11</td>\n",
       "      <td>14.89</td>\n",
       "      <td>15.01</td>\n",
       "      <td>14.26</td>\n",
       "      <td>14.46</td>\n",
       "      <td>8882000</td>\n",
       "      <td>AAL</td>\n",
       "      <td>2013</td>\n",
       "      <td>2</td>\n",
       "      <td>1</td>\n",
       "      <td>2</td>\n",
       "      <td>Monday</td>\n",
       "    </tr>\n",
       "    <tr>\n",
       "      <th>2</th>\n",
       "      <td>2013-02-12</td>\n",
       "      <td>14.45</td>\n",
       "      <td>14.51</td>\n",
       "      <td>14.10</td>\n",
       "      <td>14.27</td>\n",
       "      <td>8126000</td>\n",
       "      <td>AAL</td>\n",
       "      <td>2013</td>\n",
       "      <td>2</td>\n",
       "      <td>1</td>\n",
       "      <td>3</td>\n",
       "      <td>Tuesday</td>\n",
       "    </tr>\n",
       "    <tr>\n",
       "      <th>3</th>\n",
       "      <td>2013-02-13</td>\n",
       "      <td>14.30</td>\n",
       "      <td>14.94</td>\n",
       "      <td>14.25</td>\n",
       "      <td>14.66</td>\n",
       "      <td>10259500</td>\n",
       "      <td>AAL</td>\n",
       "      <td>2013</td>\n",
       "      <td>2</td>\n",
       "      <td>1</td>\n",
       "      <td>4</td>\n",
       "      <td>Wednesday</td>\n",
       "    </tr>\n",
       "    <tr>\n",
       "      <th>4</th>\n",
       "      <td>2013-02-14</td>\n",
       "      <td>14.94</td>\n",
       "      <td>14.96</td>\n",
       "      <td>13.16</td>\n",
       "      <td>13.99</td>\n",
       "      <td>31879900</td>\n",
       "      <td>AAL</td>\n",
       "      <td>2013</td>\n",
       "      <td>2</td>\n",
       "      <td>1</td>\n",
       "      <td>5</td>\n",
       "      <td>Thursday</td>\n",
       "    </tr>\n",
       "  </tbody>\n",
       "</table>\n",
       "</div>"
      ],
      "text/plain": [
       "         date   open   high    low  close    volume Name  YEAR  MONTH  \\\n",
       "0  2013-02-08  15.07  15.12  14.63  14.75   8407500  AAL  2013      2   \n",
       "1  2013-02-11  14.89  15.01  14.26  14.46   8882000  AAL  2013      2   \n",
       "2  2013-02-12  14.45  14.51  14.10  14.27   8126000  AAL  2013      2   \n",
       "3  2013-02-13  14.30  14.94  14.25  14.66  10259500  AAL  2013      2   \n",
       "4  2013-02-14  14.94  14.96  13.16  13.99  31879900  AAL  2013      2   \n",
       "\n",
       "   QUARTER  DAY_OF_WEEK   DAY_NAME  \n",
       "0        1            6     Friday  \n",
       "1        1            2     Monday  \n",
       "2        1            3    Tuesday  \n",
       "3        1            4  Wednesday  \n",
       "4        1            5   Thursday  "
      ]
     },
     "execution_count": 8,
     "metadata": {},
     "output_type": "execute_result"
    }
   ],
   "source": [
    "pandas_df = df_clean.toPandas()\n",
    "pandas_df.head()"
   ]
  },
  {
   "cell_type": "markdown",
   "id": "f1c766dc-7001-4381-84b3-fb82f9878545",
   "metadata": {},
   "source": [
    "Цена закрытия является стандартным ориентиром, который используется инвесторами для отслеживания динамики акций с течением времени, поэтому был построен график для демонстрации динамики средней цены закрытия."
   ]
  },
  {
   "cell_type": "code",
   "execution_count": 20,
   "id": "5714a359-f284-4f7c-81fd-7ac3e2d271c9",
   "metadata": {},
   "outputs": [
    {
     "name": "stdout",
     "output_type": "stream",
     "text": [
      "Collecting altair\n",
      "  Downloading altair-5.5.0-py3-none-any.whl.metadata (11 kB)\n",
      "Requirement already satisfied: jinja2 in ./.config/jupyterlab-desktop/jlab_server/lib/python3.12/site-packages (from altair) (3.1.4)\n",
      "Requirement already satisfied: jsonschema>=3.0 in ./.config/jupyterlab-desktop/jlab_server/lib/python3.12/site-packages (from altair) (4.22.0)\n",
      "Collecting narwhals>=1.14.2 (from altair)\n",
      "  Downloading narwhals-1.41.0-py3-none-any.whl.metadata (11 kB)\n",
      "Requirement already satisfied: packaging in ./.config/jupyterlab-desktop/jlab_server/lib/python3.12/site-packages (from altair) (24.0)\n",
      "Requirement already satisfied: typing-extensions>=4.10.0 in ./.config/jupyterlab-desktop/jlab_server/lib/python3.12/site-packages (from altair) (4.11.0)\n",
      "Requirement already satisfied: attrs>=22.2.0 in ./.config/jupyterlab-desktop/jlab_server/lib/python3.12/site-packages (from jsonschema>=3.0->altair) (23.2.0)\n",
      "Requirement already satisfied: jsonschema-specifications>=2023.03.6 in ./.config/jupyterlab-desktop/jlab_server/lib/python3.12/site-packages (from jsonschema>=3.0->altair) (2023.12.1)\n",
      "Requirement already satisfied: referencing>=0.28.4 in ./.config/jupyterlab-desktop/jlab_server/lib/python3.12/site-packages (from jsonschema>=3.0->altair) (0.35.1)\n",
      "Requirement already satisfied: rpds-py>=0.7.1 in ./.config/jupyterlab-desktop/jlab_server/lib/python3.12/site-packages (from jsonschema>=3.0->altair) (0.18.1)\n",
      "Requirement already satisfied: MarkupSafe>=2.0 in ./.config/jupyterlab-desktop/jlab_server/lib/python3.12/site-packages (from jinja2->altair) (2.1.5)\n",
      "Downloading altair-5.5.0-py3-none-any.whl (731 kB)\n",
      "\u001b[2K   \u001b[90m━━━━━━━━━━━━━━━━━━━━━━━━━━━━━━━━━━━━━━━\u001b[0m \u001b[32m731.2/731.2 kB\u001b[0m \u001b[31m603.9 kB/s\u001b[0m eta \u001b[36m0:00:00\u001b[0m00:01\u001b[0m00:01\u001b[0m\n",
      "\u001b[?25hDownloading narwhals-1.41.0-py3-none-any.whl (357 kB)\n",
      "\u001b[2K   \u001b[90m━━━━━━━━━━━━━━━━━━━━━━━━━━━━━━━━━━━━━━━\u001b[0m \u001b[32m358.0/358.0 kB\u001b[0m \u001b[31m509.4 kB/s\u001b[0m eta \u001b[36m0:00:00\u001b[0ma \u001b[36m0:00:01\u001b[0m\n",
      "\u001b[?25hInstalling collected packages: narwhals, altair\n",
      "Successfully installed altair-5.5.0 narwhals-1.41.0\n"
     ]
    }
   ],
   "source": [
    "!pip install altair"
   ]
  },
  {
   "cell_type": "code",
   "execution_count": 24,
   "id": "b7cec4cb-902e-4d24-9e6f-0c3051599d14",
   "metadata": {},
   "outputs": [
    {
     "name": "stdout",
     "output_type": "stream",
     "text": [
      "Collecting vegafusion\n",
      "  Downloading vegafusion-2.0.2-cp39-abi3-manylinux_2_17_x86_64.manylinux2014_x86_64.whl.metadata (1.1 kB)\n",
      "Collecting arro3-core (from vegafusion)\n",
      "  Downloading arro3_core-0.5.0-cp312-cp312-manylinux_2_17_x86_64.manylinux2014_x86_64.whl.metadata (885 bytes)\n",
      "Requirement already satisfied: packaging in ./.config/jupyterlab-desktop/jlab_server/lib/python3.12/site-packages (from vegafusion) (24.0)\n",
      "Requirement already satisfied: narwhals>=1.13 in ./.config/jupyterlab-desktop/jlab_server/lib/python3.12/site-packages (from vegafusion) (1.41.0)\n",
      "Downloading vegafusion-2.0.2-cp39-abi3-manylinux_2_17_x86_64.manylinux2014_x86_64.whl (20.5 MB)\n",
      "\u001b[2K   \u001b[90m━━━━━━━━━━━━━━━━━━━━━━━━━━━━━━━━━━━━━━━━\u001b[0m \u001b[32m20.5/20.5 MB\u001b[0m \u001b[31m1.6 MB/s\u001b[0m eta \u001b[36m0:00:00\u001b[0m00:01\u001b[0m00:01\u001b[0mm\n",
      "\u001b[?25hDownloading arro3_core-0.5.0-cp312-cp312-manylinux_2_17_x86_64.manylinux2014_x86_64.whl (2.5 MB)\n",
      "\u001b[2K   \u001b[90m━━━━━━━━━━━━━━━━━━━━━━━━━━━━━━━━━━━━━━━━\u001b[0m \u001b[32m2.5/2.5 MB\u001b[0m \u001b[31m1.9 MB/s\u001b[0m eta \u001b[36m0:00:00\u001b[0m00:01\u001b[0m00:01\u001b[0m\n",
      "\u001b[?25hInstalling collected packages: arro3-core, vegafusion\n",
      "Successfully installed arro3-core-0.5.0 vegafusion-2.0.2\n"
     ]
    }
   ],
   "source": [
    "!pip install vegafusion"
   ]
  },
  {
   "cell_type": "code",
   "execution_count": 26,
   "id": "f6dd42ad-fa0d-4ce2-a2ae-224d0361213f",
   "metadata": {},
   "outputs": [
    {
     "name": "stdout",
     "output_type": "stream",
     "text": [
      "Collecting vl-convert-python>=1.6.0\n",
      "  Downloading vl_convert_python-1.8.0-cp37-abi3-manylinux_2_17_x86_64.manylinux2014_x86_64.whl.metadata (5.2 kB)\n",
      "Downloading vl_convert_python-1.8.0-cp37-abi3-manylinux_2_17_x86_64.manylinux2014_x86_64.whl (33.0 MB)\n",
      "\u001b[2K   \u001b[90m━━━━━━━━━━━━━━━━━━━━━━━━━━━━━━━━━━━━━━━━\u001b[0m \u001b[32m33.0/33.0 MB\u001b[0m \u001b[31m1.7 MB/s\u001b[0m eta \u001b[36m0:00:00\u001b[0m00:01\u001b[0m00:01\u001b[0m\n",
      "\u001b[?25hInstalling collected packages: vl-convert-python\n",
      "Successfully installed vl-convert-python-1.8.0\n"
     ]
    }
   ],
   "source": [
    "!pip install \"vl-convert-python>=1.6.0\""
   ]
  },
  {
   "cell_type": "code",
   "execution_count": 20,
   "id": "190637cc-4024-4ffa-8142-7ad7550e5ab5",
   "metadata": {},
   "outputs": [
    {
     "data": {
      "text/html": [
       "\n",
       "<style>\n",
       "  #altair-viz-47b386602a184534a708f9568b9ff6bf.vega-embed {\n",
       "    width: 100%;\n",
       "    display: flex;\n",
       "  }\n",
       "\n",
       "  #altair-viz-47b386602a184534a708f9568b9ff6bf.vega-embed details,\n",
       "  #altair-viz-47b386602a184534a708f9568b9ff6bf.vega-embed details summary {\n",
       "    position: relative;\n",
       "  }\n",
       "</style>\n",
       "<div id=\"altair-viz-47b386602a184534a708f9568b9ff6bf\"></div>\n",
       "<script type=\"text/javascript\">\n",
       "  var VEGA_DEBUG = (typeof VEGA_DEBUG == \"undefined\") ? {} : VEGA_DEBUG;\n",
       "  (function(spec, embedOpt){\n",
       "    let outputDiv = document.currentScript.previousElementSibling;\n",
       "    if (outputDiv.id !== \"altair-viz-47b386602a184534a708f9568b9ff6bf\") {\n",
       "      outputDiv = document.getElementById(\"altair-viz-47b386602a184534a708f9568b9ff6bf\");\n",
       "    }\n",
       "\n",
       "    const paths = {\n",
       "      \"vega\": \"https://cdn.jsdelivr.net/npm/vega@5?noext\",\n",
       "      \"vega-lib\": \"https://cdn.jsdelivr.net/npm/vega-lib?noext\",\n",
       "      \"vega-lite\": \"https://cdn.jsdelivr.net/npm/vega-lite@5.20.1?noext\",\n",
       "      \"vega-embed\": \"https://cdn.jsdelivr.net/npm/vega-embed@6?noext\",\n",
       "    };\n",
       "\n",
       "    function maybeLoadScript(lib, version) {\n",
       "      var key = `${lib.replace(\"-\", \"\")}_version`;\n",
       "      return (VEGA_DEBUG[key] == version) ?\n",
       "        Promise.resolve(paths[lib]) :\n",
       "        new Promise(function(resolve, reject) {\n",
       "          var s = document.createElement('script');\n",
       "          document.getElementsByTagName(\"head\")[0].appendChild(s);\n",
       "          s.async = true;\n",
       "          s.onload = () => {\n",
       "            VEGA_DEBUG[key] = version;\n",
       "            return resolve(paths[lib]);\n",
       "          };\n",
       "          s.onerror = () => reject(`Error loading script: ${paths[lib]}`);\n",
       "          s.src = paths[lib];\n",
       "        });\n",
       "    }\n",
       "\n",
       "    function showError(err) {\n",
       "      outputDiv.innerHTML = `<div class=\"error\" style=\"color:red;\">${err}</div>`;\n",
       "      throw err;\n",
       "    }\n",
       "\n",
       "    function displayChart(vegaEmbed) {\n",
       "      vegaEmbed(outputDiv, spec, embedOpt)\n",
       "        .catch(err => showError(`Javascript Error: ${err.message}<br>This usually means there's a typo in your chart specification. See the javascript console for the full traceback.`));\n",
       "    }\n",
       "\n",
       "    if(typeof define === \"function\" && define.amd) {\n",
       "      requirejs.config({paths});\n",
       "      let deps = [\"vega-embed\"];\n",
       "      require(deps, displayChart, err => showError(`Error loading script: ${err.message}`));\n",
       "    } else {\n",
       "      maybeLoadScript(\"vega\", \"5\")\n",
       "        .then(() => maybeLoadScript(\"vega-lite\", \"5.20.1\"))\n",
       "        .then(() => maybeLoadScript(\"vega-embed\", \"6\"))\n",
       "        .catch(showError)\n",
       "        .then(() => displayChart(vegaEmbed));\n",
       "    }\n",
       "  })({\"config\": {\"view\": {\"continuousWidth\": 300, \"continuousHeight\": 300, \"strokeWidth\": 0}, \"axis\": {\"grid\": true, \"gridColor\": \"#f0f0f0\"}, \"title\": {\"anchor\": \"start\", \"fontSize\": 16}}, \"hconcat\": [{\"layer\": [{\"mark\": {\"type\": \"area\", \"color\": \"#aec7e8\", \"interpolate\": \"monotone\", \"opacity\": 0.3}, \"encoding\": {\"x\": {\"axis\": {\"labelAngle\": 0}, \"field\": \"YEAR\", \"title\": \"\\u0413\\u043e\\u0434\", \"type\": \"ordinal\"}, \"y\": {\"field\": \"q25\", \"title\": \"\\u0426\\u0435\\u043d\\u0430 \\u0437\\u0430\\u043a\\u0440\\u044b\\u0442\\u0438\\u044f (USD)\", \"type\": \"quantitative\"}, \"y2\": {\"field\": \"q75\"}}, \"name\": \"view_3\"}, {\"mark\": {\"type\": \"line\", \"color\": \"#1f77b4\", \"size\": 3}, \"encoding\": {\"x\": {\"axis\": {\"labelAngle\": 0}, \"field\": \"YEAR\", \"title\": \"\\u0413\\u043e\\u0434\", \"type\": \"ordinal\"}, \"y\": {\"field\": \"median\", \"type\": \"quantitative\"}}}, {\"mark\": {\"type\": \"point\", \"color\": \"#1f77b4\", \"filled\": true, \"size\": 80}, \"encoding\": {\"x\": {\"axis\": {\"labelAngle\": 0}, \"field\": \"YEAR\", \"title\": \"\\u0413\\u043e\\u0434\", \"type\": \"ordinal\"}, \"y\": {\"field\": \"median\", \"type\": \"quantitative\"}}}, {\"layer\": [{\"mark\": {\"type\": \"point\", \"color\": \"#ff7f0e\", \"shape\": \"diamond\", \"size\": 50}, \"encoding\": {\"x\": {\"axis\": {\"labelAngle\": 0}, \"field\": \"YEAR\", \"title\": \"\\u0413\\u043e\\u0434\", \"type\": \"ordinal\"}, \"y\": {\"field\": \"q25\", \"type\": \"quantitative\"}}}, {\"mark\": {\"type\": \"point\", \"color\": \"#ff7f0e\", \"shape\": \"diamond\", \"size\": 50}, \"encoding\": {\"x\": {\"axis\": {\"labelAngle\": 0}, \"field\": \"YEAR\", \"title\": \"\\u0413\\u043e\\u0434\", \"type\": \"ordinal\"}, \"y\": {\"field\": \"q75\", \"type\": \"quantitative\"}}}]}], \"data\": {\"name\": \"data-79f80299dd93934c199f0240e3af176c\"}, \"encoding\": {\"tooltip\": [{\"field\": \"YEAR\", \"title\": \"\\u0413\\u043e\\u0434\", \"type\": \"ordinal\"}, {\"field\": \"median\", \"format\": \"$.2f\", \"title\": \"\\u041c\\u0435\\u0434\\u0438\\u0430\\u043d\\u0430\", \"type\": \"quantitative\"}, {\"field\": \"q25\", \"format\": \"$.2f\", \"title\": \"25-\\u0439 \\u043f\\u0440\\u043e\\u0446\\u0435\\u043d\\u0442\\u0438\\u043b\\u044c\", \"type\": \"quantitative\"}, {\"field\": \"q75\", \"format\": \"$.2f\", \"title\": \"75-\\u0439 \\u043f\\u0440\\u043e\\u0446\\u0435\\u043d\\u0442\\u0438\\u043b\\u044c\", \"type\": \"quantitative\"}, {\"field\": \"iqr\", \"format\": \"$.2f\", \"title\": \"IQR\", \"type\": \"quantitative\"}]}, \"height\": 400, \"title\": \"\\u0420\\u044b\\u043d\\u043e\\u0447\\u043d\\u044b\\u0439 \\u0442\\u0440\\u0435\\u043d\\u0434: \\u041c\\u0435\\u0434\\u0438\\u0430\\u043d\\u0430 \\u0438 \\u043c\\u0435\\u0436\\u043a\\u0432\\u0430\\u0440\\u0442\\u0438\\u043b\\u044c\\u043d\\u044b\\u0439 \\u0440\\u0430\\u0437\\u043c\\u0430\\u0445 (25-75%)\", \"width\": 700}, {\"data\": {\"name\": \"data-ed8b723e687acb4b6ab8f7cb7749ec95\"}, \"mark\": {\"type\": \"point\", \"size\": 50}, \"encoding\": {\"color\": {\"field\": \"color\", \"legend\": null, \"scale\": null, \"type\": \"nominal\"}, \"shape\": {\"field\": \"shape\", \"legend\": null, \"type\": \"nominal\"}, \"y\": {\"axis\": {\"orient\": \"right\"}, \"field\": \"Element\", \"title\": null, \"type\": \"nominal\"}}, \"height\": 100, \"name\": \"view_4\", \"title\": \"\\u041b\\u0435\\u0433\\u0435\\u043d\\u0434\\u0430\", \"width\": 150}], \"params\": [{\"name\": \"param_4\", \"select\": {\"type\": \"interval\", \"encodings\": [\"x\", \"y\"]}, \"bind\": \"scales\", \"views\": [\"view_3\", \"view_4\"]}], \"$schema\": \"https://vega.github.io/schema/vega-lite/v5.20.1.json\", \"datasets\": {\"data-79f80299dd93934c199f0240e3af176c\": [{\"YEAR\": 2013, \"median\": 51.3, \"q25\": 34.58, \"q75\": 75.56, \"iqr\": 40.980000000000004}, {\"YEAR\": 2014, \"median\": 59.46, \"q25\": 39.695, \"q75\": 88.39, \"iqr\": 48.695}, {\"YEAR\": 2015, \"median\": 64.35, \"q25\": 41.92, \"q75\": 95.59, \"iqr\": 53.67}, {\"YEAR\": 2016, \"median\": 64.9, \"q25\": 40.213750000000005, \"q75\": 96.84, \"iqr\": 56.62625}, {\"YEAR\": 2017, \"median\": 72.37, \"q25\": 45.42, \"q75\": 115.51, \"iqr\": 70.09}, {\"YEAR\": 2018, \"median\": 78.71, \"q25\": 49.675, \"q75\": 127.00750000000001, \"iqr\": 77.33250000000001}], \"data-ed8b723e687acb4b6ab8f7cb7749ec95\": [{\"Element\": \"\\u041c\\u0435\\u0434\\u0438\\u0430\\u043d\\u0430\", \"color\": \"#1f77b4\", \"shape\": \"circle\"}, {\"Element\": \"25-75% \\u0434\\u0438\\u0430\\u043f\\u0430\\u0437\\u043e\\u043d\", \"color\": \"#aec7e8\", \"shape\": \"square\"}, {\"Element\": \"25/75 \\u043f\\u0440\\u043e\\u0446\\u0435\\u043d\\u0442\\u0438\\u043b\\u0438\", \"color\": \"#ff7f0e\", \"shape\": \"diamond\"}]}}, {\"mode\": \"vega-lite\"});\n",
       "</script>"
      ],
      "text/plain": [
       "alt.HConcatChart(...)"
      ]
     },
     "execution_count": 20,
     "metadata": {},
     "output_type": "execute_result"
    }
   ],
   "source": [
    "import altair as alt\n",
    "import numpy as np\n",
    "import pandas as pd\n",
    "\n",
    "# Рассчитываем статистики\n",
    "market_stats = pandas_df.groupby(\"YEAR\")['close'].agg(\n",
    "    median=lambda x: np.quantile(x, 0.5),\n",
    "    q25=lambda x: np.quantile(x, 0.25),\n",
    "    q75=lambda x: np.quantile(x, 0.75)\n",
    ").reset_index()\n",
    "\n",
    "# Добавляем вычисленный IQR в данные\n",
    "market_stats['iqr'] = market_stats['q75'] - market_stats['q25']\n",
    "\n",
    "# Создаем основной график без конфигураций\n",
    "base = alt.Chart(market_stats).encode(\n",
    "    x=alt.X('YEAR:O', title='Год', axis=alt.Axis(labelAngle=0))\n",
    ")\n",
    "\n",
    "# Элементы графика\n",
    "area = base.mark_area(opacity=0.3, interpolate='monotone', color='#aec7e8').encode(\n",
    "    y=alt.Y('q25:Q', title='Цена закрытия (USD)'),\n",
    "    y2='q75:Q'\n",
    ")\n",
    "\n",
    "median_line = base.mark_line(color='#1f77b4', size=3).encode(y='median:Q')\n",
    "median_points = base.mark_point(size=80, filled=True, color='#1f77b4').encode(y='median:Q')\n",
    "\n",
    "percentile_points = (\n",
    "    base.mark_point(shape='diamond', size=50, color='#ff7f0e').encode(y='q25:Q') + \n",
    "    base.mark_point(shape='diamond', size=50, color='#ff7f0e').encode(y='q75:Q')\n",
    ")\n",
    "\n",
    "# Собираем основной график\n",
    "main_chart = (\n",
    "    area + \n",
    "    median_line + \n",
    "    median_points + \n",
    "    percentile_points\n",
    ").properties(\n",
    "    width=700,\n",
    "    height=400,\n",
    "    title='Рыночный тренд: Медиана и межквартильный размах (25-75%)'\n",
    ")\n",
    "\n",
    "# Добавляем подсказки\n",
    "tooltip = [\n",
    "    alt.Tooltip('YEAR:O', title='Год'),\n",
    "    alt.Tooltip('median:Q', format='$.2f', title='Медиана'),\n",
    "    alt.Tooltip('q25:Q', format='$.2f', title='25-й процентиль'),\n",
    "    alt.Tooltip('q75:Q', format='$.2f', title='75-й процентиль'),\n",
    "    alt.Tooltip('iqr:Q', format='$.2f', title='IQR')\n",
    "]\n",
    "\n",
    "main_chart = main_chart.encode(tooltip=tooltip)\n",
    "\n",
    "# Создаем легенду как отдельный график\n",
    "legend_data = pd.DataFrame({\n",
    "    'Element': ['Медиана', '25-75% диапазон', '25/75 процентили'],\n",
    "    'color': ['#1f77b4', '#aec7e8', '#ff7f0e'],\n",
    "    'shape': ['circle', 'square', 'diamond']\n",
    "})\n",
    "\n",
    "legend = alt.Chart(legend_data).mark_point(size=50).encode(\n",
    "    y=alt.Y('Element:N', title=None, axis=alt.Axis(orient='right')),\n",
    "    color=alt.Color('color:N', scale=None, legend=None),\n",
    "    shape=alt.Shape('shape:N', legend=None)\n",
    ").properties(\n",
    "    title='Легенда',\n",
    "    width=150,\n",
    "    height=100\n",
    ")\n",
    "\n",
    "# Комбинируем графики без предварительной конфигурации\n",
    "final_chart = alt.hconcat(\n",
    "    main_chart,\n",
    "    legend\n",
    ").configure(\n",
    "    axis=alt.AxisConfig(grid=True, gridColor='#f0f0f0'),\n",
    "    view=alt.ViewConfig(strokeWidth=0),\n",
    "    title=alt.TitleConfig(fontSize=16, anchor='start')\n",
    ").interactive()\n",
    "\n",
    "final_chart"
   ]
  },
  {
   "cell_type": "code",
   "execution_count": 13,
   "id": "89e2d724-79c4-42e3-8cbb-11ad208741de",
   "metadata": {},
   "outputs": [],
   "source": [
    "import altair as alt"
   ]
  },
  {
   "cell_type": "markdown",
   "id": "34bd26b9-a389-4f31-8c29-b66a1341dc7d",
   "metadata": {},
   "source": [
    "Медиана — это центральная тенденция распределения цен закрытия. На графике видно, что медиана растёт постепенно с 2013 по 2018 год, хотя её рост не всегда линейный. В 2013 году оба процентиля находятся близко к медиане, что указывает на небольшую дисперсию цен. В 2014–2016 годах дисперсия увеличивается, так как разница между 25-м и 75-м процентилями становится больше. В 2017–2018 годах дисперсия снова уменьшается.\n",
    "Рост цен : Общая тенденция показывает рост цены закрытия акций с 2013 по 2018 год. Это видно по росту медианы и верхней границы межквартильного размаха.\n",
    "Низкая волатильность в 2013 году. Высокая волатильность в 2014–2016 годах. Снижение волатильности в 2017–2018 годах."
   ]
  },
  {
   "cell_type": "code",
   "execution_count": 23,
   "id": "684ff931-2713-4523-8dfe-6defae474fbc",
   "metadata": {},
   "outputs": [
    {
     "name": "stdout",
     "output_type": "stream",
     "text": [
      "Описательная статистика цен закрытия:\n"
     ]
    },
    {
     "name": "stderr",
     "output_type": "stream",
     "text": [
      "[Stage 26:=============================>                            (1 + 1) / 2]\r"
     ]
    },
    {
     "name": "stdout",
     "output_type": "stream",
     "text": [
      "+----+-----+------------------+------------------+-------+-------+------+------+------+\n",
      "|Name|count|mean              |std               |min    |25%    |median|75%   |max   |\n",
      "+----+-----+------------------+------------------+-------+-------+------+------+------+\n",
      "|A   |1259 |49.20202541699773 |9.229803678416987 |33.37  |41.55  |46.7  |56.5  |74.82 |\n",
      "|AAL |1259 |38.39325226370134 |10.957635792198424|13.02  |34.31  |40.87 |46.54 |58.47 |\n",
      "|AAP |1259 |132.43346306592537|31.274462696143278|76.18  |104.33 |141.3 |156.78|200.38|\n",
      "|AAPL|1259 |109.06669849086583|30.556811676964696|55.7899|84.8228|109.01|127.14|179.26|\n",
      "|ABBV|1259 |60.864440031771295|13.730380067162388|35.27  |52.63  |60.17 |65.76 |123.21|\n",
      "|ABC |1259 |82.09297855440828 |16.31569005819414 |46.18  |70.52  |82.56 |92.53 |115.48|\n",
      "|ADI |1259 |60.93193208895952 |13.383630814638682|42.34  |50.255 |56.93 |67.91 |97.24 |\n",
      "|ADM |1259 |42.402112787926896|5.197069078924799 |30.22  |39.26  |42.88 |45.65 |53.71 |\n",
      "|ADP |1259 |87.00940111199368 |13.280746254628916|60.27  |78.22  |85.205|94.93 |123.63|\n",
      "|ADS |1259 |241.0440508339953 |37.21375546514165 |152.05 |214.36 |242.64|272.09|309.91|\n",
      "|ADSK|1259 |64.19433582208106 |23.602061331769562|33.48  |49.46  |56.96 |72.35 |130.24|\n",
      "|AEE |1259 |45.00293884034948 |8.103548837206345 |32.61  |38.63  |43.0  |51.7  |64.54 |\n",
      "|AES |1259 |12.340048451151723|1.4871795570849995|8.54   |11.23  |12.23 |13.57 |15.57 |\n",
      "|AGN |1259 |222.26103256552835|59.026349830314544|83.1   |185.84 |227.99|265.39|339.5 |\n",
      "|AIV |1259 |37.49065925337562 |6.048727635117268 |25.0   |31.54  |38.35 |43.18 |47.59 |\n",
      "|AIZ |1259 |75.40227164416207 |16.620759834455278|38.48  |64.44  |72.7  |89.88 |106.27|\n",
      "|AJG |1259 |48.62541699761724 |6.534043103734438 |36.24  |44.48  |47.1  |50.46 |70.49 |\n",
      "|AKAM|1259 |56.625419301032565|9.913879701580472 |33.55  |49.43  |55.35 |63.6  |78.36 |\n",
      "|ALGN|1259 |83.66451826846715 |53.71322736111622 |30.13  |53.94  |60.88 |93.76 |283.97|\n",
      "|ALL |1259 |67.22848292295474 |14.197124571786505|45.14  |57.14  |66.45 |71.6  |104.91|\n",
      "+----+-----+------------------+------------------+-------+-------+------+------+------+\n",
      "only showing top 20 rows\n",
      "\n"
     ]
    },
    {
     "name": "stderr",
     "output_type": "stream",
     "text": [
      "                                                                                \r"
     ]
    }
   ],
   "source": [
    "# 6. Выводим статистику (используя Spark)\n",
    "print(\"Описательная статистика цен закрытия:\")\n",
    "summary_statistics = (\n",
    "    df\n",
    "    .groupBy(\"Name\")\n",
    "    .agg(\n",
    "        F.count(\"close\").alias(\"count\"),\n",
    "        F.mean(\"close\").alias(\"mean\"),\n",
    "        F.stddev(\"close\").alias(\"std\"),\n",
    "        F.min(\"close\").alias(\"min\"),\n",
    "        F.expr(\"percentile_approx(close, 0.25)\").alias(\"25%\"),\n",
    "        F.expr(\"percentile_approx(close, 0.5)\").alias(\"median\"),\n",
    "        F.expr(\"percentile_approx(close, 0.75)\").alias(\"75%\"),\n",
    "        F.max(\"close\").alias(\"max\")\n",
    "    )\n",
    "    .show(truncate=False)\n",
    ")"
   ]
  },
  {
   "cell_type": "markdown",
   "id": "eb806c90-2a40-4c8c-a623-20799350a7c3",
   "metadata": {},
   "source": [
    "Историческая волатильность рассчитывается на основе фактических изменений цен за прошедшие периоды. Самый распространённый метод — стандартное отклонение доходности. "
   ]
  },
  {
   "cell_type": "code",
   "execution_count": 25,
   "id": "b78bd6fb-7ace-475c-ad62-710c9b3e14da",
   "metadata": {},
   "outputs": [
    {
     "name": "stderr",
     "output_type": "stream",
     "text": [
      "                                                                                \r"
     ]
    },
    {
     "data": {
      "text/html": [
       "\n",
       "<style>\n",
       "  #altair-viz-b6f313c2f0e54507a23e2863ae1a31e0.vega-embed {\n",
       "    width: 100%;\n",
       "    display: flex;\n",
       "  }\n",
       "\n",
       "  #altair-viz-b6f313c2f0e54507a23e2863ae1a31e0.vega-embed details,\n",
       "  #altair-viz-b6f313c2f0e54507a23e2863ae1a31e0.vega-embed details summary {\n",
       "    position: relative;\n",
       "  }\n",
       "</style>\n",
       "<div id=\"altair-viz-b6f313c2f0e54507a23e2863ae1a31e0\"></div>\n",
       "<script type=\"text/javascript\">\n",
       "  var VEGA_DEBUG = (typeof VEGA_DEBUG == \"undefined\") ? {} : VEGA_DEBUG;\n",
       "  (function(spec, embedOpt){\n",
       "    let outputDiv = document.currentScript.previousElementSibling;\n",
       "    if (outputDiv.id !== \"altair-viz-b6f313c2f0e54507a23e2863ae1a31e0\") {\n",
       "      outputDiv = document.getElementById(\"altair-viz-b6f313c2f0e54507a23e2863ae1a31e0\");\n",
       "    }\n",
       "\n",
       "    const paths = {\n",
       "      \"vega\": \"https://cdn.jsdelivr.net/npm/vega@5?noext\",\n",
       "      \"vega-lib\": \"https://cdn.jsdelivr.net/npm/vega-lib?noext\",\n",
       "      \"vega-lite\": \"https://cdn.jsdelivr.net/npm/vega-lite@5.20.1?noext\",\n",
       "      \"vega-embed\": \"https://cdn.jsdelivr.net/npm/vega-embed@6?noext\",\n",
       "    };\n",
       "\n",
       "    function maybeLoadScript(lib, version) {\n",
       "      var key = `${lib.replace(\"-\", \"\")}_version`;\n",
       "      return (VEGA_DEBUG[key] == version) ?\n",
       "        Promise.resolve(paths[lib]) :\n",
       "        new Promise(function(resolve, reject) {\n",
       "          var s = document.createElement('script');\n",
       "          document.getElementsByTagName(\"head\")[0].appendChild(s);\n",
       "          s.async = true;\n",
       "          s.onload = () => {\n",
       "            VEGA_DEBUG[key] = version;\n",
       "            return resolve(paths[lib]);\n",
       "          };\n",
       "          s.onerror = () => reject(`Error loading script: ${paths[lib]}`);\n",
       "          s.src = paths[lib];\n",
       "        });\n",
       "    }\n",
       "\n",
       "    function showError(err) {\n",
       "      outputDiv.innerHTML = `<div class=\"error\" style=\"color:red;\">${err}</div>`;\n",
       "      throw err;\n",
       "    }\n",
       "\n",
       "    function displayChart(vegaEmbed) {\n",
       "      vegaEmbed(outputDiv, spec, embedOpt)\n",
       "        .catch(err => showError(`Javascript Error: ${err.message}<br>This usually means there's a typo in your chart specification. See the javascript console for the full traceback.`));\n",
       "    }\n",
       "\n",
       "    if(typeof define === \"function\" && define.amd) {\n",
       "      requirejs.config({paths});\n",
       "      let deps = [\"vega-embed\"];\n",
       "      require(deps, displayChart, err => showError(`Error loading script: ${err.message}`));\n",
       "    } else {\n",
       "      maybeLoadScript(\"vega\", \"5\")\n",
       "        .then(() => maybeLoadScript(\"vega-lite\", \"5.20.1\"))\n",
       "        .then(() => maybeLoadScript(\"vega-embed\", \"6\"))\n",
       "        .catch(showError)\n",
       "        .then(() => displayChart(vegaEmbed));\n",
       "    }\n",
       "  })({\"config\": {\"view\": {\"continuousWidth\": 300, \"continuousHeight\": 300, \"strokeWidth\": 0}, \"axis\": {\"grid\": true, \"gridColor\": \"#f0f0f0\"}}, \"layer\": [{\"mark\": {\"type\": \"bar\", \"color\": \"#1f77b4\", \"size\": 40}, \"encoding\": {\"tooltip\": [{\"field\": \"DAY_NAME\", \"title\": \"\\u0414\\u0435\\u043d\\u044c \\u043d\\u0435\\u0434\\u0435\\u043b\\u0438\", \"type\": \"ordinal\"}, {\"field\": \"volatility\", \"format\": \".4f\", \"title\": \"\\u0412\\u043e\\u043b\\u0430\\u0442\\u0438\\u043b\\u044c\\u043d\\u043e\\u0441\\u0442\\u044c\", \"type\": \"quantitative\"}, {\"field\": \"mean_return\", \"format\": \".4f\", \"title\": \"\\u0421\\u0440\\u0435\\u0434\\u043d\\u044f\\u044f \\u0434\\u043e\\u0445\\u043e\\u0434\\u043d\\u043e\\u0441\\u0442\\u044c\", \"type\": \"quantitative\"}, {\"field\": \"n_observations\", \"format\": \",d\", \"title\": \"\\u041d\\u0430\\u0431\\u043b\\u044e\\u0434\\u0435\\u043d\\u0438\\u044f\", \"type\": \"quantitative\"}], \"x\": {\"axis\": {\"labelAngle\": 0}, \"field\": \"DAY_NAME\", \"sort\": [\"Monday\", \"Tuesday\", \"Wednesday\", \"Thursday\", \"Friday\", \"Saturday\", \"Sunday\"], \"title\": \"\\u0414\\u0435\\u043d\\u044c \\u043d\\u0435\\u0434\\u0435\\u043b\\u0438\", \"type\": \"nominal\"}, \"y\": {\"field\": \"volatility\", \"scale\": {\"zero\": false}, \"title\": \"\\u0412\\u043e\\u043b\\u0430\\u0442\\u0438\\u043b\\u044c\\u043d\\u043e\\u0441\\u0442\\u044c (\\u0441\\u0442\\u0430\\u043d\\u0434\\u0430\\u0440\\u0442\\u043d\\u043e\\u0435 \\u043e\\u0442\\u043a\\u043b\\u043e\\u043d\\u0435\\u043d\\u0438\\u0435 \\u0434\\u043e\\u0445\\u043e\\u0434\\u043d\\u043e\\u0441\\u0442\\u0438)\", \"type\": \"quantitative\"}}}, {\"mark\": {\"type\": \"line\", \"color\": \"#ff7f0e\", \"size\": 3}, \"encoding\": {\"x\": {\"axis\": {\"labelAngle\": 0}, \"field\": \"DAY_NAME\", \"sort\": [\"Monday\", \"Tuesday\", \"Wednesday\", \"Thursday\", \"Friday\", \"Saturday\", \"Sunday\"], \"title\": \"\\u0414\\u0435\\u043d\\u044c \\u043d\\u0435\\u0434\\u0435\\u043b\\u0438\", \"type\": \"nominal\"}, \"y\": {\"axis\": {\"format\": \"%\"}, \"field\": \"mean_return\", \"title\": \"\\u0421\\u0440\\u0435\\u0434\\u043d\\u044f\\u044f \\u0434\\u043e\\u0445\\u043e\\u0434\\u043d\\u043e\\u0441\\u0442\\u044c\", \"type\": \"quantitative\"}}}], \"data\": {\"name\": \"data-20a3e03e1b5967384dc9dcc5be605dec\"}, \"height\": 450, \"resolve\": {\"scale\": {\"y\": \"independent\"}}, \"title\": \"\\u0420\\u044b\\u043d\\u043e\\u0447\\u043d\\u0430\\u044f \\u0432\\u043e\\u043b\\u0430\\u0442\\u0438\\u043b\\u044c\\u043d\\u043e\\u0441\\u0442\\u044c \\u0438 \\u0434\\u043e\\u0445\\u043e\\u0434\\u043d\\u043e\\u0441\\u0442\\u044c \\u043f\\u043e \\u0434\\u043d\\u044f\\u043c \\u043d\\u0435\\u0434\\u0435\\u043b\\u0438\", \"width\": 700, \"$schema\": \"https://vega.github.io/schema/vega-lite/v5.20.1.json\", \"datasets\": {\"data-20a3e03e1b5967384dc9dcc5be605dec\": [{\"DAY_NAME\": \"Monday\", \"DAY_OF_WEEK\": 2, \"volatility\": 0.015327140304823059, \"n_observations\": 115989, \"mean_return\": -0.0004499181671224868}, {\"DAY_NAME\": \"Tuesday\", \"DAY_OF_WEEK\": 3, \"volatility\": 0.015588534741047218, \"n_observations\": 127829, \"mean_return\": 0.0005859187942958148}, {\"DAY_NAME\": \"Wednesday\", \"DAY_OF_WEEK\": 4, \"volatility\": 0.01622543906075223, \"n_observations\": 127370, \"mean_return\": 0.0007008780689594071}, {\"DAY_NAME\": \"Thursday\", \"DAY_OF_WEEK\": 5, \"volatility\": 0.017068560678357717, \"n_observations\": 123916, \"mean_return\": 0.0005176709417110376}, {\"DAY_NAME\": \"Friday\", \"DAY_OF_WEEK\": 6, \"volatility\": 0.016417866380397467, \"n_observations\": 123431, \"mean_return\": 0.0006350564592511071}]}}, {\"mode\": \"vega-lite\"});\n",
       "</script>"
      ],
      "text/plain": [
       "alt.LayerChart(...)"
      ]
     },
     "execution_count": 25,
     "metadata": {},
     "output_type": "execute_result"
    }
   ],
   "source": [
    "import altair as alt\n",
    "from pyspark.sql import functions as F\n",
    "from pyspark.sql.window import Window\n",
    "import pandas as pd\n",
    "\n",
    "# 1. Вычисляем логарифмическую доходность\n",
    "window = Window.partitionBy(\"Name\").orderBy(\"date\")\n",
    "df = df.withColumn(\"prev_close\", F.lag(\"close\").over(window))\n",
    "df = df.withColumn(\"log_return\", F.log(F.col(\"close\") / F.col(\"prev_close\")))\n",
    "\n",
    "# 2. Рассчитываем волатильность по дням недели\n",
    "daily_vol = df.groupBy(\"DAY_NAME\", \"DAY_OF_WEEK\").agg(\n",
    "    F.stddev(\"log_return\").alias(\"volatility\"),\n",
    "    F.count(\"log_return\").alias(\"n_observations\"),\n",
    "    F.mean(\"log_return\").alias(\"mean_return\")\n",
    ").filter(F.col(\"n_observations\") > 100).orderBy(\"DAY_OF_WEEK\").toPandas()\n",
    "\n",
    "# 3. Упорядочиваем дни недели\n",
    "day_order = ['Monday', 'Tuesday', 'Wednesday', 'Thursday', 'Friday', 'Saturday', 'Sunday']\n",
    "daily_vol['DAY_NAME'] = pd.Categorical(daily_vol['DAY_NAME'], categories=day_order, ordered=True)\n",
    "\n",
    "# 4. Строим интерактивный график\n",
    "base = alt.Chart(daily_vol).encode(\n",
    "    x=alt.X('DAY_NAME:N', \n",
    "            title='День недели',\n",
    "            axis=alt.Axis(labelAngle=0),\n",
    "            sort=day_order)\n",
    ")\n",
    "\n",
    "# Столбцы волатильности\n",
    "volatility_bars = base.mark_bar(\n",
    "    size=40,\n",
    "    color='#1f77b4'\n",
    ").encode(\n",
    "    y=alt.Y('volatility:Q',\n",
    "            title='Волатильность (стандартное отклонение доходности)',\n",
    "            scale=alt.Scale(zero=False)),\n",
    "    tooltip=[\n",
    "        alt.Tooltip('DAY_NAME', title='День недели'),\n",
    "        alt.Tooltip('volatility:Q', format='.4f', title='Волатильность'),\n",
    "        alt.Tooltip('mean_return:Q', format='.4f', title='Средняя доходность'),\n",
    "        alt.Tooltip('n_observations:Q', format=',d', title='Наблюдения')\n",
    "    ]\n",
    ")\n",
    "\n",
    "# Линия средней доходности\n",
    "return_line = base.mark_line(\n",
    "    color='#ff7f0e',\n",
    "    size=3\n",
    ").encode(\n",
    "    y=alt.Y('mean_return:Q',\n",
    "            title='Средняя доходность',\n",
    "            axis=alt.Axis(format='%'))\n",
    ")\n",
    "\n",
    "# Комбинируем графики с двойной осью Y\n",
    "chart = alt.layer(volatility_bars, return_line).resolve_scale(\n",
    "    y='independent'\n",
    ").properties(\n",
    "    width=700,\n",
    "    height=450,\n",
    "    title='Рыночная волатильность и доходность по дням недели'\n",
    ").configure_axis(\n",
    "    grid=True,\n",
    "    gridColor='#f0f0f0'\n",
    ").configure_view(\n",
    "    strokeWidth=0\n",
    ")\n",
    "\n",
    "chart"
   ]
  },
  {
   "cell_type": "markdown",
   "id": "e13efa33-7dc3-4f7b-a9e6-b06097b5a35c",
   "metadata": {},
   "source": [
    "Y-ось слева : Волатильность (стандартное отклонение доходности), измеряется в долях. Y-ось справа : Средняя доходность.\n",
    "\"Понедельник-пятница\" (1.6%):\n",
    "Низкая волатильность в начале и конце недели\n",
    "Понедельник: инвесторы оценивают риски после выходных\n",
    "Пятница: фиксация позиций перед выходными\n",
    "\"Эффект среды\":\n",
    "Максимальная волатильность в середине недели\n",
    "Возможные причины: выход важных экономических новостей, пик деловой активности. Отрицательная доходность в понедельник : Это может быть следствием \"эффекта понедельника\", когда цены акций часто снижаются после выходных из-за плохих новостей или ожиданий. Если вы планируете совершать крупные сделки, лучше делать это в понедельник или четверг, когда волатильность ниже, а доходность выше."
   ]
  },
  {
   "cell_type": "code",
   "execution_count": 28,
   "id": "2480b5b3-fc33-4a5b-86fb-08594e208dc0",
   "metadata": {},
   "outputs": [
    {
     "data": {
      "image/png": "[encoded data removed]",
      "text/plain": [
       "<Figure size 1400x700 with 1 Axes>"
      ]
     },
     "metadata": {},
     "output_type": "display_data"
    }
   ],
   "source": [
    "import matplotlib.pyplot as plt\n",
    "\n",
    "pandas_df2=pandas_df\n",
    "\n",
    "# 1. Усреднение цены закрытия по датам (по всем компаниям)\n",
    "daily_avg_close = pandas_df2.groupby('date')['close'].mean().reset_index()\n",
    "\n",
    "# 2. Расчёт скользящих средних (SMA_10 и SMA_50)\n",
    "daily_avg_close['SMA_10'] = daily_avg_close['close'].rolling(window=10).mean()\n",
    "daily_avg_close['SMA_50'] = daily_avg_close['close'].rolling(window=50).mean()\n",
    "\n",
    "# 3. Построение графика\n",
    "plt.figure(figsize=(14, 7))\n",
    "plt.plot(daily_avg_close['date'], daily_avg_close['close'], label='Средняя цена закрытия по дате', color='blue')\n",
    "plt.plot(daily_avg_close['date'], daily_avg_close['SMA_10'], label='SMA 10 дней', color='orange')\n",
    "plt.plot(daily_avg_close['date'], daily_avg_close['SMA_50'], label='SMA 50 дней', color='red')\n",
    "\n",
    "plt.title(\"Скользящие средние на основе средней цены закрытия по дате\")\n",
    "plt.xlabel(\"Дата\")\n",
    "plt.ylabel(\"Цена (USD)\")\n",
    "plt.legend()\n",
    "plt.grid(True)\n",
    "plt.tight_layout()\n",
    "plt.show()"
   ]
  },
  {
   "cell_type": "markdown",
   "id": "c3a58ab2-9fa9-4023-925b-4e0234a572a1",
   "metadata": {},
   "source": [
    "Тенденция цены закрытия указывает на восходящий тренд рынка или портфеля акций за 2013-2018 период. В целом наблюдается высокая волатильность рынка. В середине 2014 года: небольшое снижение цены. В начале 2016 года: более глубокая коррекция, где цена падает ниже 70 USD. Золотой Крест: в начале 2016 года, является бычьим сигналом , указывающим на переход рынка из медвежьего состояния в бычье. 2013–2014 годы : Рынок находится в фазе формирования тренда. SMA 10 дней и SMA 50 дней движутся близко друг к другу, что указывает на неопределённость . 2015–2016 годы : После золотого креста в начале 2016 года рынок становится более уверенным в восходящем тренде. SMA 10 дней и SMA 50 дней расходятся, что усиливает уверенность в тренде. 2017–2018 годы : Тренд продолжает расти, хотя в 2017 году наблюдаются коррекции. SMA 50 дней остаётся над уровнем поддержки, что подтверждает восходящий тренд."
   ]
  },
  {
   "cell_type": "code",
   "execution_count": 29,
   "id": "a58d0c63-59f7-41c3-9123-1aad672b88e4",
   "metadata": {},
   "outputs": [
    {
     "name": "stdout",
     "output_type": "stream",
     "text": [
      "            open      high       low     close    volume\n",
      "open    1.000000  0.999939  0.999928  0.999872 -0.142705\n",
      "high    0.999939  1.000000  0.999903  0.999936 -0.142316\n",
      "low     0.999928  0.999903  1.000000  0.999939 -0.143240\n",
      "close   0.999872  0.999936  0.999939  1.000000 -0.142802\n",
      "volume -0.142705 -0.142316 -0.143240 -0.142802  1.000000\n"
     ]
    }
   ],
   "source": [
    "numeric_df = pandas_df[['open', 'high', 'low', 'close', 'volume']]\n",
    "correlation_matrix = numeric_df.corr()\n",
    "print(correlation_matrix)"
   ]
  },
  {
   "cell_type": "code",
   "execution_count": 32,
   "id": "f2f044d0-61b8-4b8e-8b61-3d11a246a5ed",
   "metadata": {},
   "outputs": [
    {
     "data": {
      "image/png": "[encoded data removed]",
      "text/plain": [
       "<Figure size 1000x800 with 2 Axes>"
      ]
     },
     "metadata": {},
     "output_type": "display_data"
    }
   ],
   "source": [
    "import seaborn as sns\n",
    "import matplotlib.pyplot as plt\n",
    "\n",
    "plt.figure(figsize=(10, 8))\n",
    "sns.heatmap(correlation_matrix, annot=True, cmap='coolwarm', fmt='.2f', linewidths=0.5, square=True)\n",
    "plt.title(\"Матрица корреляции между числовыми признаками\")\n",
    "plt.show()"
   ]
  },
  {
   "cell_type": "code",
   "execution_count": 31,
   "id": "5eb32250-78ef-4267-ae01-48b2deed8bcc",
   "metadata": {},
   "outputs": [
    {
     "name": "stdout",
     "output_type": "stream",
     "text": [
      "Collecting seaborn\n",
      "  Downloading seaborn-0.13.2-py3-none-any.whl.metadata (5.4 kB)\n",
      "Requirement already satisfied: numpy!=1.24.0,>=1.20 in ./.config/jupyterlab-desktop/jlab_server/lib/python3.12/site-packages (from seaborn) (1.26.4)\n",
      "Requirement already satisfied: pandas>=1.2 in ./.config/jupyterlab-desktop/jlab_server/lib/python3.12/site-packages (from seaborn) (2.2.2)\n",
      "Requirement already satisfied: matplotlib!=3.6.1,>=3.4 in ./.config/jupyterlab-desktop/jlab_server/lib/python3.12/site-packages (from seaborn) (3.8.4)\n",
      "Requirement already satisfied: contourpy>=1.0.1 in ./.config/jupyterlab-desktop/jlab_server/lib/python3.12/site-packages (from matplotlib!=3.6.1,>=3.4->seaborn) (1.2.1)\n",
      "Requirement already satisfied: cycler>=0.10 in ./.config/jupyterlab-desktop/jlab_server/lib/python3.12/site-packages (from matplotlib!=3.6.1,>=3.4->seaborn) (0.12.1)\n",
      "Requirement already satisfied: fonttools>=4.22.0 in ./.config/jupyterlab-desktop/jlab_server/lib/python3.12/site-packages (from matplotlib!=3.6.1,>=3.4->seaborn) (4.51.0)\n",
      "Requirement already satisfied: kiwisolver>=1.3.1 in ./.config/jupyterlab-desktop/jlab_server/lib/python3.12/site-packages (from matplotlib!=3.6.1,>=3.4->seaborn) (1.4.5)\n",
      "Requirement already satisfied: packaging>=20.0 in ./.config/jupyterlab-desktop/jlab_server/lib/python3.12/site-packages (from matplotlib!=3.6.1,>=3.4->seaborn) (24.0)\n",
      "Requirement already satisfied: pillow>=8 in ./.config/jupyterlab-desktop/jlab_server/lib/python3.12/site-packages (from matplotlib!=3.6.1,>=3.4->seaborn) (10.3.0)\n",
      "Requirement already satisfied: pyparsing>=2.3.1 in ./.config/jupyterlab-desktop/jlab_server/lib/python3.12/site-packages (from matplotlib!=3.6.1,>=3.4->seaborn) (3.1.2)\n",
      "Requirement already satisfied: python-dateutil>=2.7 in ./.config/jupyterlab-desktop/jlab_server/lib/python3.12/site-packages (from matplotlib!=3.6.1,>=3.4->seaborn) (2.9.0)\n",
      "Requirement already satisfied: pytz>=2020.1 in ./.config/jupyterlab-desktop/jlab_server/lib/python3.12/site-packages (from pandas>=1.2->seaborn) (2024.1)\n",
      "Requirement already satisfied: tzdata>=2022.7 in ./.config/jupyterlab-desktop/jlab_server/lib/python3.12/site-packages (from pandas>=1.2->seaborn) (2024.1)\n",
      "Requirement already satisfied: six>=1.5 in ./.config/jupyterlab-desktop/jlab_server/lib/python3.12/site-packages (from python-dateutil>=2.7->matplotlib!=3.6.1,>=3.4->seaborn) (1.16.0)\n",
      "Downloading seaborn-0.13.2-py3-none-any.whl (294 kB)\n",
      "\u001b[2K   \u001b[90m━━━━━━━━━━━━━━━━━━━━━━━━━━━━━━━━━━━━━━━━\u001b[0m \u001b[32m294.9/294.9 kB\u001b[0m \u001b[31m1.0 MB/s\u001b[0m eta \u001b[36m0:00:00\u001b[0ma \u001b[36m0:00:01\u001b[0mm\n",
      "\u001b[?25hInstalling collected packages: seaborn\n",
      "Successfully installed seaborn-0.13.2\n"
     ]
    }
   ],
   "source": [
    "!pip install seaborn"
   ]
  },
  {
   "cell_type": "markdown",
   "id": "8983b1b2-ed39-4951-8e94-f12901f88b8f",
   "metadata": {},
   "source": [
    "Положительная и высокая корреляция логична, High обычно больше Close и Open. Low обычно меньше Close и Open. Volume имеет небольшую отрицательную корреляцию (~-0.14) со всеми ценовыми признаками (Open, High, Low, Close). Чем дешевле цена, тем больше продаж.  Может быть связано с тем, что данные собраны за период, когда рыночная активность была стабильной, и объём торгов не сильно влиял на цены."
   ]
  },
  {
   "cell_type": "code",
   "execution_count": 34,
   "id": "e53a5d22-3e5d-4f33-97de-5b4efe618701",
   "metadata": {},
   "outputs": [
    {
     "name": "stderr",
     "output_type": "stream",
     "text": [
      "/tmp/ipykernel_4462/3288080266.py:12: FutureWarning:\n",
      "\n",
      "\n",
      "\n",
      "Passing `palette` without assigning `hue` is deprecated and will be removed in v0.14.0. Assign the `x` variable to `hue` and set `legend=False` for the same effect.\n",
      "\n",
      "\n"
     ]
    },
    {
     "data": {
      "image/png": "[encoded data removed]",
      "text/plain": [
       "<Figure size 1400x700 with 1 Axes>"
      ]
     },
     "metadata": {},
     "output_type": "display_data"
    }
   ],
   "source": [
    "import matplotlib.pyplot as plt\n",
    "import seaborn as sns\n",
    "\n",
    "# Рассчитываем средний объём торгов по годам\n",
    "volume_by_year = pandas_df.groupby('YEAR')['volume'].mean().reset_index()\n",
    "\n",
    "# Переименовываем колонки для лучшей читаемости (опционально)\n",
    "volume_by_year.columns = ['Год', 'Средний_Объем']\n",
    "\n",
    "# Построение графика\n",
    "plt.figure(figsize=(14, 7))\n",
    "barplot = sns.barplot(x='Год', y='Средний_Объем', data=volume_by_year, palette='viridis')\n",
    "\n",
    "# Добавляем подписи к столбцам\n",
    "for p in barplot.patches:\n",
    "    barplot.annotate(f'{int(p.get_height()):,}', \n",
    "                     (p.get_x() + p.get_width() / 2., p.get_height()), \n",
    "                     ha='center', va='center', \n",
    "                     fontsize=10, color='black', xytext=(0, 8), \n",
    "                     textcoords='offset points')\n",
    "\n",
    "# Настройка заголовков и подписей\n",
    "plt.title(\"Средний объём торгов по годам\", fontsize=16, fontweight='bold')\n",
    "plt.xlabel(\"Год\", fontsize=13)\n",
    "plt.ylabel(\"Средний объём торгов\", fontsize=13)\n",
    "\n",
    "# Поворот меток по оси X\n",
    "plt.xticks(rotation=45, fontsize=11)\n",
    "plt.yticks(fontsize=11)\n",
    "\n",
    "# Сетка и отступы\n",
    "plt.grid(True, linestyle='--', alpha=0.5, axis='y')\n",
    "plt.tight_layout()\n",
    "\n",
    "# Отображение графика\n",
    "plt.show()"
   ]
  },
  {
   "cell_type": "markdown",
   "id": "5af8af42-c006-4158-915b-413c8f9ac6d6",
   "metadata": {},
   "source": [
    "За весь период наблюдается небольшая волатильность , но общая тенденция указывает на стабильность с незначительными колебаниями.\n",
    "Нет резких скачков или падений, что говорит о постоянном уровне рыночной активности. \n",
    "Наибольший объём торгов : Зарегистрирован в 2018 году (4,825,637).\n",
    "Наименьший объём торгов : Зарегистрирован в 2017 году (3,970,454).\n",
    "Максимальный рост : Произошёл между 2017 и 2018 годами (+21.5%).\n",
    "Максимальное падение : Произошло между 2013 и 2014 годами (-8.5%)."
   ]
  },
  {
   "cell_type": "markdown",
   "id": "467b49d8-9cb1-4cde-8512-aa8fb133f67d",
   "metadata": {},
   "source": [
    "Общие выводы:\n",
    "1. Стабильность объёмов торгов с небольшой волатильностью:\n",
    "Объём торгов акциями демонстрирует стабильную динамику на протяжении всего периода, без резких скачков или падений.\n",
    "2. Восходящий тренд цены закрытия с высокой волатильностью:\n",
    "За исследуемый период цена акций показала общий восходящий тренд. Несмотря на наличие коррекций (например, в середине 2014 года и начале 2016 года), рынок демонстрировал уверенное восстановление. Золотой крест в 2016 году стал важным сигналом перехода от медвежьего к бычьему рынку, после которого тренд стал более выраженным. SMA (средние скользящие) подтверждают усиление уверенности инвесторов с 2016 года.\n",
    "3. Сезонность волатильности и доходности по дням недели:\n",
    "Анализ показывает существование так называемого \"понедельник-пятница эффекта\": волатильность ниже в понедельник и пятницу, что делает эти дни потенциально более привлекательными для крупных сделок. При этом понедельник характеризуется отрицательной доходностью (\"эффект понедельника\"), вероятно, из-за влияния новостей за выходные. Максимальная волатильность приходится на середину недели, что может быть связано с публикацией макроэкономических данных и высоким уровнем деловой активности.\n",
    "4. Постепенный рост цен и изменение волатильности во времени:\n",
    "Медиана цены закрытия акций демонстрирует постепенный рост на протяжении всего периода."
   ]
  },
  {
   "cell_type": "code",
   "execution_count": 35,
   "id": "990b33e9-1f79-4267-b44c-a27a03cb30d5",
   "metadata": {},
   "outputs": [],
   "source": [
    "# Преобразование Pandas DataFrame обратно в PySpark DataFrame\n",
    "pandas_df_spark = spark.createDataFrame(pandas_df)"
   ]
  },
  {
   "cell_type": "code",
   "execution_count": null,
   "id": "f28322a1-eecf-499a-8085-bcfa5343ff73",
   "metadata": {},
   "outputs": [],
   "source": [
    "# Путь в HDFS для сохранения\n",
    "file_path_hdfs = \"hdfs://localhost:9000/3_zadanie/hadoop/input/pandas_df_spark.csv\"\n",
    "\n",
    "# Сохранение DataFrame в формате CSV в HDFS\n",
    "pandas_df_spark.write.csv(file_path_hdfs, header=True, mode='overwrite')"
   ]
  }
 ],
 "metadata": {
  "kernelspec": {
   "display_name": "Python 3 (ipykernel)",
   "language": "python",
   "name": "python3"
  },
  "language_info": {
   "codemirror_mode": {
    "name": "ipython",
    "version": 3
   },
   "file_extension": ".py",
   "mimetype": "text/x-python",
   "name": "python",
   "nbconvert_exporter": "python",
   "pygments_lexer": "ipython3",
   "version": "3.12.3"
  }
 },
 "nbformat": 4,
 "nbformat_minor": 5
}
